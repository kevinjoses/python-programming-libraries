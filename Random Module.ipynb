{
 "cells": [
  {
   "cell_type": "code",
   "execution_count": 1,
   "id": "009e552e-f458-433a-af29-252ba35131d0",
   "metadata": {},
   "outputs": [],
   "source": [
    "from numpy import random"
   ]
  },
  {
   "cell_type": "code",
   "execution_count": 2,
   "id": "5ec31ae7-adce-453e-9025-bafb6b8c29e9",
   "metadata": {
    "panel-layout": {
     "height": 27.137500762939453,
     "visible": true,
     "width": 100
    }
   },
   "outputs": [
    {
     "data": {
      "text/plain": [
       "69"
      ]
     },
     "execution_count": 2,
     "metadata": {},
     "output_type": "execute_result"
    }
   ],
   "source": [
    "x = random.randint(50,100)\n",
    "x"
   ]
  },
  {
   "cell_type": "code",
   "execution_count": 3,
   "id": "3c3f0939-1cee-491f-9749-82e5b86045a0",
   "metadata": {
    "panel-layout": {
     "height": 27.137500762939453,
     "visible": true,
     "width": 100
    }
   },
   "outputs": [
    {
     "data": {
      "text/plain": [
       "0.31824091965183"
      ]
     },
     "execution_count": 3,
     "metadata": {},
     "output_type": "execute_result"
    }
   ],
   "source": [
    "y = random.rand()\n",
    "y"
   ]
  },
  {
   "cell_type": "code",
   "execution_count": 4,
   "id": "9c34c121-98eb-4d54-b62b-dd1243304265",
   "metadata": {
    "panel-layout": {
     "height": 27.137500762939453,
     "visible": true,
     "width": 100
    }
   },
   "outputs": [
    {
     "data": {
      "text/plain": [
       "array([ 3,  4,  8,  2,  4, 10,  3,  7,  6,  2])"
      ]
     },
     "execution_count": 4,
     "metadata": {},
     "output_type": "execute_result"
    }
   ],
   "source": [
    "# Creating a 1D array using random module\n",
    "arr1 = random.randint(1,11,size=(10,))\n",
    "arr1"
   ]
  },
  {
   "cell_type": "code",
   "execution_count": 5,
   "id": "422bad4a-a483-46c4-ac4e-5c01e87fc08e",
   "metadata": {
    "panel-layout": {
     "height": 61.412498474121094,
     "visible": true,
     "width": 100
    }
   },
   "outputs": [
    {
     "data": {
      "text/plain": [
       "array([[4, 2],\n",
       "       [4, 1],\n",
       "       [1, 7]])"
      ]
     },
     "execution_count": 5,
     "metadata": {},
     "output_type": "execute_result"
    }
   ],
   "source": [
    "# Creating a 2D array using random module\n",
    "arr2 = random.randint(1,11,size=(3,2))\n",
    "arr2\n"
   ]
  },
  {
   "cell_type": "code",
   "execution_count": 6,
   "id": "5c20139d-f309-4182-9965-ee17b4336dc2",
   "metadata": {
    "panel-layout": {
     "height": 310,
     "visible": true,
     "width": 100
    }
   },
   "outputs": [
    {
     "data": {
      "text/plain": [
       "array([[[ 8,  7],\n",
       "        [ 7,  6],\n",
       "        [10,  9]],\n",
       "\n",
       "       [[ 3,  5],\n",
       "        [ 7,  1],\n",
       "        [ 6,  6]]])"
      ]
     },
     "execution_count": 6,
     "metadata": {},
     "output_type": "execute_result"
    }
   ],
   "source": [
    "# Creating a 3D array using random module\n",
    "arr3 = random.randint(1,11,size=(2,3,2))\n",
    "arr3"
   ]
  },
  {
   "cell_type": "code",
   "execution_count": 7,
   "id": "e7c93fff-1907-4e62-b16e-eaab087ce745",
   "metadata": {
    "panel-layout": {
     "height": 68.3375015258789,
     "visible": true,
     "width": 100
    }
   },
   "outputs": [
    {
     "data": {
      "text/plain": [
       "array([0.69123819, 0.2148059 , 0.73930715, 0.03997038, 0.09574008,\n",
       "       0.03360014, 0.20719173, 0.29828955, 0.24805352, 0.21711278])"
      ]
     },
     "execution_count": 7,
     "metadata": {},
     "output_type": "execute_result"
    }
   ],
   "source": [
    "# Creating a 1D array using random module\n",
    "arr1 = random.rand(10,)\n",
    "arr1"
   ]
  },
  {
   "cell_type": "code",
   "execution_count": 8,
   "id": "21bce22a-bb49-4142-b20b-7b67ce22ea59",
   "metadata": {
    "panel-layout": {
     "height": 78.55000305175781,
     "visible": true,
     "width": 100
    }
   },
   "outputs": [
    {
     "data": {
      "text/plain": [
       "array([[0.97190553, 0.87789375, 0.30543542],\n",
       "       [0.0835134 , 0.9568612 , 0.69034547],\n",
       "       [0.60697349, 0.4057304 , 0.0938333 ],\n",
       "       [0.67118959, 0.21706717, 0.01792138]])"
      ]
     },
     "execution_count": 8,
     "metadata": {},
     "output_type": "execute_result"
    }
   ],
   "source": [
    "# Creating a 2D array using random module\n",
    "arr1 = random.rand(4,3)\n",
    "arr1"
   ]
  },
  {
   "cell_type": "code",
   "execution_count": 9,
   "id": "f10ecc3c-537f-4134-ad6e-b761416f6793",
   "metadata": {
    "panel-layout": {
     "height": 78.55000305175781,
     "visible": true,
     "width": 100
    }
   },
   "outputs": [
    {
     "data": {
      "text/plain": [
       "array([[4, 4],\n",
       "       [4, 7],\n",
       "       [8, 4],\n",
       "       [7, 8]])"
      ]
     },
     "execution_count": 9,
     "metadata": {},
     "output_type": "execute_result"
    }
   ],
   "source": [
    "# Choice\n",
    "\n",
    "arr_c = random.choice([4,7,8,2],size=(4,2))\n",
    "arr_c"
   ]
  },
  {
   "cell_type": "code",
   "execution_count": 10,
   "id": "63b4084e-0ef8-4f1f-94af-259f86ef4681",
   "metadata": {
    "panel-layout": {
     "height": 78.55000305175781,
     "visible": true,
     "width": 100
    }
   },
   "outputs": [
    {
     "data": {
      "text/plain": [
       "array([[4, 4],\n",
       "       [4, 4],\n",
       "       [4, 4],\n",
       "       [4, 4]])"
      ]
     },
     "execution_count": 10,
     "metadata": {},
     "output_type": "execute_result"
    }
   ],
   "source": [
    "arr_c = random.choice([4,7,8,2],p=[0.8,0.05,0.05,0.1],size=(4,2))\n",
    "arr_c"
   ]
  },
  {
   "cell_type": "code",
   "execution_count": 11,
   "id": "2fe8e807-5b10-4b06-bcdf-ec04f32efa6c",
   "metadata": {
    "panel-layout": {
     "height": 61.412498474121094,
     "visible": true,
     "width": 100
    }
   },
   "outputs": [
    {
     "data": {
      "text/plain": [
       "array([[4, 2],\n",
       "       [4, 1],\n",
       "       [1, 7]])"
      ]
     },
     "execution_count": 11,
     "metadata": {},
     "output_type": "execute_result"
    }
   ],
   "source": [
    "arr2"
   ]
  },
  {
   "cell_type": "code",
   "execution_count": 12,
   "id": "3de8097c-fee0-4d2d-b8af-692916046aba",
   "metadata": {
    "panel-layout": {
     "height": 61.412498474121094,
     "visible": true,
     "width": 100
    }
   },
   "outputs": [
    {
     "data": {
      "text/plain": [
       "array([[1, 7],\n",
       "       [4, 1],\n",
       "       [4, 2]])"
      ]
     },
     "execution_count": 12,
     "metadata": {},
     "output_type": "execute_result"
    }
   ],
   "source": [
    "random.shuffle(arr2)\n",
    "arr2\n"
   ]
  },
  {
   "cell_type": "code",
   "execution_count": 13,
   "id": "35d87792-b597-478b-a1e0-4c3c0bc3da18",
   "metadata": {
    "panel-layout": {
     "height": 78.55000305175781,
     "visible": true,
     "width": 100
    }
   },
   "outputs": [
    {
     "name": "stdout",
     "output_type": "stream",
     "text": [
      "[[0.97190553 0.87789375 0.30543542]\n",
      " [0.0835134  0.9568612  0.69034547]\n",
      " [0.60697349 0.4057304  0.0938333 ]\n",
      " [0.67118959 0.21706717 0.01792138]]\n"
     ]
    },
    {
     "data": {
      "text/plain": [
       "array([[0.0835134 , 0.9568612 , 0.69034547],\n",
       "       [0.60697349, 0.4057304 , 0.0938333 ],\n",
       "       [0.97190553, 0.87789375, 0.30543542],\n",
       "       [0.67118959, 0.21706717, 0.01792138]])"
      ]
     },
     "execution_count": 13,
     "metadata": {},
     "output_type": "execute_result"
    }
   ],
   "source": [
    "print(arr1)\n",
    "arr_p = random.permutation(arr1)\n",
    "arr_p"
   ]
  },
  {
   "cell_type": "markdown",
   "id": "945f5ffe-bdc4-4492-9ae0-363cf1dc4292",
   "metadata": {},
   "source": [
    "# Numpy Universal FUNCTIONS"
   ]
  },
  {
   "cell_type": "code",
   "execution_count": 2,
   "id": "c686fa4f-b780-4967-8a5f-65c0f323a8d3",
   "metadata": {},
   "outputs": [],
   "source": [
    "import numpy as np"
   ]
  },
  {
   "cell_type": "code",
   "execution_count": 4,
   "id": "731aaed6-dd28-4c4d-8cde-705f488e142d",
   "metadata": {},
   "outputs": [
    {
     "name": "stdout",
     "output_type": "stream",
     "text": [
      "<class 'function'>\n"
     ]
    }
   ],
   "source": [
    "def add(a,b):\n",
    "    return a+b\n",
    "\n",
    "print(type(add))"
   ]
  },
  {
   "cell_type": "code",
   "execution_count": 6,
   "id": "68e4d2af-bac6-4844-9041-4787da6bd05e",
   "metadata": {},
   "outputs": [
    {
     "name": "stdout",
     "output_type": "stream",
     "text": [
      "<class 'numpy.ufunc'>\n"
     ]
    }
   ],
   "source": [
    "print(type(np.add))"
   ]
  },
  {
   "cell_type": "code",
   "execution_count": 8,
   "id": "2725fd56-67d1-42b1-b812-88db9a981bb0",
   "metadata": {},
   "outputs": [
    {
     "name": "stdout",
     "output_type": "stream",
     "text": [
      "<class 'numpy.ufunc'>\n"
     ]
    }
   ],
   "source": [
    "add_u = np.frompyfunc(add,2,1)\n",
    "print(type(add_u))"
   ]
  },
  {
   "cell_type": "code",
   "execution_count": 16,
   "id": "4e0fd261-e93a-4767-9ee5-b3a222b1481c",
   "metadata": {},
   "outputs": [
    {
     "data": {
      "text/plain": [
       "array([ 6,  8, 10, 12])"
      ]
     },
     "execution_count": 16,
     "metadata": {},
     "output_type": "execute_result"
    }
   ],
   "source": [
    "# add\n",
    "arr1 = np.array([2,3,4,5])\n",
    "arr2 = np.array([4,5,6,7])\n",
    "\n",
    "arr3 = np.add(arr1,arr2)\n",
    "arr3"
   ]
  },
  {
   "cell_type": "code",
   "execution_count": 18,
   "id": "3c5bd1b8-6d29-4c25-9a89-75c33df415bc",
   "metadata": {},
   "outputs": [
    {
     "data": {
      "text/plain": [
       "array([-2, -2, -2, -2])"
      ]
     },
     "execution_count": 18,
     "metadata": {},
     "output_type": "execute_result"
    }
   ],
   "source": [
    "# subtract\n",
    "arr1 = np.array([2,3,4,5])\n",
    "arr2 = np.array([4,5,6,7])\n",
    "\n",
    "arr3 = np.subtract(arr1,arr2)\n",
    "arr3"
   ]
  },
  {
   "cell_type": "code",
   "execution_count": 22,
   "id": "7e638ed3-b81a-4c3c-af28-975eb455aab9",
   "metadata": {},
   "outputs": [
    {
     "data": {
      "text/plain": [
       "array([ 8, 15, 24, 35])"
      ]
     },
     "execution_count": 22,
     "metadata": {},
     "output_type": "execute_result"
    }
   ],
   "source": [
    "# mulitply\n",
    "arr1 = np.array([2,3,4,5])\n",
    "arr2 = np.array([4,5,6,7])\n",
    "\n",
    "arr3 = np.multiply(arr1,arr2)\n",
    "arr3"
   ]
  },
  {
   "cell_type": "code",
   "execution_count": 28,
   "id": "c11fe608-8ebb-461f-8fc9-c9a6faa75ece",
   "metadata": {},
   "outputs": [
    {
     "data": {
      "text/plain": [
       "array([0, 2, 2, 2])"
      ]
     },
     "execution_count": 28,
     "metadata": {},
     "output_type": "execute_result"
    }
   ],
   "source": [
    "# mod\n",
    "arr1 = np.array([2,3,4,5])\n",
    "arr2 = np.array([4,5,6,7])\n",
    "\n",
    "arr3 = np.remainder(arr2,arr1)\n",
    "arr3"
   ]
  },
  {
   "cell_type": "code",
   "execution_count": 30,
   "id": "11b51cc6-9eba-4155-b65b-88f65e8548e9",
   "metadata": {},
   "outputs": [
    {
     "data": {
      "text/plain": [
       "(array([2, 1, 1, 1]), array([0, 2, 2, 2]))"
      ]
     },
     "execution_count": 30,
     "metadata": {},
     "output_type": "execute_result"
    }
   ],
   "source": [
    "# divmod\n",
    "arr1 = np.array([2,3,4,5])\n",
    "arr2 = np.array([4,5,6,7])\n",
    "\n",
    "arr3 = np.divmod(arr2,arr1)\n",
    "arr3"
   ]
  },
  {
   "cell_type": "code",
   "execution_count": 32,
   "id": "9fcfbce9-fad1-4af9-87a3-9b330fc08910",
   "metadata": {},
   "outputs": [
    {
     "data": {
      "text/plain": [
       "array([2, 3, 4, 5])"
      ]
     },
     "execution_count": 32,
     "metadata": {},
     "output_type": "execute_result"
    }
   ],
   "source": [
    "# absolute\n",
    "arr1 = np.array([2,-3,4,-5])\n",
    "# arr2 = np.array([4,5,6,7])\n",
    "\n",
    "arr3 = np.abs(arr1)\n",
    "arr3"
   ]
  },
  {
   "cell_type": "markdown",
   "id": "be90a381-465f-49b8-aa7d-e8d9b463b8ca",
   "metadata": {},
   "source": [
    "### Numpy Logarithmic Fucntions"
   ]
  },
  {
   "cell_type": "code",
   "execution_count": 35,
   "id": "fa2aa3af-1023-4176-8444-fc4707431d2e",
   "metadata": {},
   "outputs": [
    {
     "name": "stderr",
     "output_type": "stream",
     "text": [
      "C:\\Users\\VICTUS\\AppData\\Local\\Temp\\ipykernel_9196\\2525474654.py:3: RuntimeWarning: invalid value encountered in log2\n",
      "  base = np.log2(arr1)\n"
     ]
    },
    {
     "data": {
      "text/plain": [
       "array([ 1., nan,  2., nan])"
      ]
     },
     "execution_count": 35,
     "metadata": {},
     "output_type": "execute_result"
    }
   ],
   "source": [
    "# log2\n",
    "\n",
    "base = np.log2(arr1)\n",
    "base"
   ]
  },
  {
   "cell_type": "code",
   "execution_count": 37,
   "id": "5bf1f50f-13ea-4993-9bde-4d3eb4cb6c8e",
   "metadata": {},
   "outputs": [
    {
     "name": "stderr",
     "output_type": "stream",
     "text": [
      "C:\\Users\\VICTUS\\AppData\\Local\\Temp\\ipykernel_9196\\2932962257.py:1: RuntimeWarning: invalid value encountered in log10\n",
      "  base = np.log10(arr1)\n"
     ]
    },
    {
     "data": {
      "text/plain": [
       "array([0.30103   ,        nan, 0.60205999,        nan])"
      ]
     },
     "execution_count": 37,
     "metadata": {},
     "output_type": "execute_result"
    }
   ],
   "source": [
    "# log10\n",
    "base = np.log10(arr1)\n",
    "base"
   ]
  },
  {
   "cell_type": "code",
   "execution_count": 39,
   "id": "5c6c1495-78ca-46da-99fb-2765167c764f",
   "metadata": {},
   "outputs": [
    {
     "name": "stderr",
     "output_type": "stream",
     "text": [
      "C:\\Users\\VICTUS\\AppData\\Local\\Temp\\ipykernel_9196\\2075982791.py:1: RuntimeWarning: invalid value encountered in log\n",
      "  base = np.log(arr1)\n"
     ]
    },
    {
     "data": {
      "text/plain": [
       "array([0.69314718,        nan, 1.38629436,        nan])"
      ]
     },
     "execution_count": 39,
     "metadata": {},
     "output_type": "execute_result"
    }
   ],
   "source": [
    "# loge\n",
    "base = np.log(arr1)\n",
    "base"
   ]
  },
  {
   "cell_type": "code",
   "execution_count": 41,
   "id": "984389a0-bfdd-4601-be48-7553ff398c24",
   "metadata": {},
   "outputs": [],
   "source": [
    "from math import log"
   ]
  },
  {
   "cell_type": "code",
   "execution_count": 43,
   "id": "9f9685f1-ef33-486a-8428-e7dd099d2ce2",
   "metadata": {},
   "outputs": [
    {
     "name": "stdout",
     "output_type": "stream",
     "text": [
      "<class 'builtin_function_or_method'>\n"
     ]
    }
   ],
   "source": [
    "print(type(log))"
   ]
  },
  {
   "cell_type": "code",
   "execution_count": 47,
   "id": "84bd1e01-b6dc-490e-942f-68b5ce2e33c4",
   "metadata": {},
   "outputs": [
    {
     "name": "stdout",
     "output_type": "stream",
     "text": [
      "<class 'numpy.ufunc'>\n"
     ]
    }
   ],
   "source": [
    "log_u = np.frompyfunc(log,2,1)\n",
    "print(type(log_u))"
   ]
  },
  {
   "cell_type": "code",
   "execution_count": 59,
   "id": "469a5b0c-fe38-4634-bb9f-a1f7ef1a0c21",
   "metadata": {},
   "outputs": [
    {
     "name": "stdout",
     "output_type": "stream",
     "text": [
      "0.46275642631951835 0.5372435736804817 0.5981040045018439 0.6495607655709434 "
     ]
    }
   ],
   "source": [
    "# log at any base\n",
    "l\n",
    "for i in arr2:\n",
    "    print(log_u(i,20),end=\" \")\n",
    "    # print(i)"
   ]
  },
  {
   "cell_type": "code",
   "execution_count": 63,
   "id": "fa4aba19-a7a8-4871-8508-718a0fcc81ba",
   "metadata": {},
   "outputs": [
    {
     "data": {
      "text/plain": [
       "array([14, 22])"
      ]
     },
     "execution_count": 63,
     "metadata": {},
     "output_type": "execute_result"
    }
   ],
   "source": [
    "# np.sum\n",
    "\n",
    "arr1 = np.array([2,3,4,5])\n",
    "arr2 = np.array([4,5,6,7])\n",
    "\n",
    "# arr3 = np.sum([arr1,arr2])\n",
    "# arr3\n",
    "\n",
    "arr3 = np.sum([arr1,arr2],axis=1)\n",
    "arr3"
   ]
  },
  {
   "cell_type": "code",
   "execution_count": 65,
   "id": "704536e0-6be3-40bf-92af-d88e7dd58303",
   "metadata": {},
   "outputs": [
    {
     "data": {
      "text/plain": [
       "array([ 2,  5,  9, 14])"
      ]
     },
     "execution_count": 65,
     "metadata": {},
     "output_type": "execute_result"
    }
   ],
   "source": [
    "arr1 = np.array([2,3,4,5])\n",
    "\n",
    "arr3 = np.cumsum(arr1)\n",
    "arr3"
   ]
  },
  {
   "cell_type": "code",
   "execution_count": 71,
   "id": "745bde8c-7b7a-4fd5-bf6c-13d20f27e370",
   "metadata": {},
   "outputs": [
    {
     "data": {
      "text/plain": [
       "100800"
      ]
     },
     "execution_count": 71,
     "metadata": {},
     "output_type": "execute_result"
    }
   ],
   "source": [
    "# Product\n",
    "arr1 = np.array([2,3,4,5])\n",
    "arr2 = np.array([4,5,6,7])\n",
    "\n",
    "arr3 = np.prod([arr1,arr2])\n",
    "arr3\n",
    "\n",
    "# arr3 = np.prod([arr1,arr2],axis=1)\n",
    "# arr3"
   ]
  },
  {
   "cell_type": "code",
   "execution_count": 73,
   "id": "2b7552d7-27e9-4bac-8c58-86874a411e27",
   "metadata": {},
   "outputs": [
    {
     "data": {
      "text/plain": [
       "array([  2,   6,  24, 120])"
      ]
     },
     "execution_count": 73,
     "metadata": {},
     "output_type": "execute_result"
    }
   ],
   "source": [
    "arr1 = np.array([2,3,4,5])\n",
    "\n",
    "arr3 = np.cumprod(arr1)\n",
    "arr3"
   ]
  },
  {
   "cell_type": "code",
   "execution_count": 79,
   "id": "12a7f8bb-42bf-476b-bf01-53d4b329c5b2",
   "metadata": {},
   "outputs": [
    {
     "data": {
      "text/plain": [
       "array([0, 0])"
      ]
     },
     "execution_count": 79,
     "metadata": {},
     "output_type": "execute_result"
    }
   ],
   "source": [
    "# np.diff\n",
    "\n",
    "arr1 = np.array([2,3,4,5])\n",
    "# arr2 = np.array([4,5,6,7])\n",
    "\n",
    "# arr3 = np.sum([arr1,arr2])\n",
    "# arr3\n",
    "\n",
    "arr3 = np.diff(arr1,n=2)\n",
    "arr3"
   ]
  },
  {
   "cell_type": "markdown",
   "id": "a3218fa3-0f92-42a3-8cd5-6fd1c154a0d5",
   "metadata": {},
   "source": [
    "#### Trignometric Functions"
   ]
  },
  {
   "cell_type": "code",
   "execution_count": 82,
   "id": "09eeda8c-5909-403c-86ef-5e6c63cc588d",
   "metadata": {},
   "outputs": [
    {
     "name": "stdout",
     "output_type": "stream",
     "text": [
      "[3.141592653589793, 1.5707963267948966, 1.0471975511965976, 0.7853981633974483]\n"
     ]
    }
   ],
   "source": [
    "values = [np.pi,np.pi/2,np.pi/3,np.pi/4]\n",
    "print(values)"
   ]
  },
  {
   "cell_type": "code",
   "execution_count": 84,
   "id": "6bf71c39-b5a0-4a27-891d-78f1f29958ca",
   "metadata": {},
   "outputs": [
    {
     "data": {
      "text/plain": [
       "array([180.,  90.,  60.,  45.])"
      ]
     },
     "execution_count": 84,
     "metadata": {},
     "output_type": "execute_result"
    }
   ],
   "source": [
    "degrees = np.rad2deg(values)\n",
    "degrees"
   ]
  },
  {
   "cell_type": "code",
   "execution_count": 86,
   "id": "24a59b48-609f-4f52-9900-abb839435f1f",
   "metadata": {},
   "outputs": [
    {
     "data": {
      "text/plain": [
       "array([1.22464680e-16, 1.00000000e+00, 8.66025404e-01, 7.07106781e-01])"
      ]
     },
     "execution_count": 86,
     "metadata": {},
     "output_type": "execute_result"
    }
   ],
   "source": [
    "sin_val = np.sin(values)\n",
    "sin_val"
   ]
  },
  {
   "cell_type": "code",
   "execution_count": 88,
   "id": "64caf97e-032a-4c84-b3e8-ef25b28d8ea3",
   "metadata": {},
   "outputs": [
    {
     "data": {
      "text/plain": [
       "array([-1.00000000e+00,  6.12323400e-17,  5.00000000e-01,  7.07106781e-01])"
      ]
     },
     "execution_count": 88,
     "metadata": {},
     "output_type": "execute_result"
    }
   ],
   "source": [
    "cos_val = np.cos(values)\n",
    "cos_val"
   ]
  },
  {
   "cell_type": "code",
   "execution_count": 90,
   "id": "ea6f9ed7-917d-4578-9d81-ebea848a11d4",
   "metadata": {},
   "outputs": [
    {
     "data": {
      "text/plain": [
       "array([-1.22464680e-16,  1.63312394e+16,  1.73205081e+00,  1.00000000e+00])"
      ]
     },
     "execution_count": 90,
     "metadata": {},
     "output_type": "execute_result"
    }
   ],
   "source": [
    "tan_val = np.tan(values)\n",
    "tan_val"
   ]
  },
  {
   "cell_type": "code",
   "execution_count": 92,
   "id": "490c492b-0110-436c-bc1f-e11755fb5560",
   "metadata": {},
   "outputs": [
    {
     "name": "stderr",
     "output_type": "stream",
     "text": [
      "C:\\Users\\VICTUS\\AppData\\Local\\Temp\\ipykernel_9196\\4222470800.py:3: RuntimeWarning: invalid value encountered in arcsin\n",
      "  sin_val = np.arcsin(values)\n"
     ]
    },
    {
     "data": {
      "text/plain": [
       "array([       nan,        nan,        nan, 0.90333911])"
      ]
     },
     "execution_count": 92,
     "metadata": {},
     "output_type": "execute_result"
    }
   ],
   "source": [
    "# Inverse values\n",
    "\n",
    "sin_val = np.arcsin(values)\n",
    "sin_val"
   ]
  },
  {
   "cell_type": "code",
   "execution_count": 94,
   "id": "58253d58-6c7a-480e-a002-334bafbb7779",
   "metadata": {},
   "outputs": [
    {
     "name": "stderr",
     "output_type": "stream",
     "text": [
      "C:\\Users\\VICTUS\\AppData\\Local\\Temp\\ipykernel_9196\\850971523.py:1: RuntimeWarning: invalid value encountered in arccos\n",
      "  sin_val = np.arccos(values)\n"
     ]
    },
    {
     "data": {
      "text/plain": [
       "array([       nan,        nan,        nan, 0.66745722])"
      ]
     },
     "execution_count": 94,
     "metadata": {},
     "output_type": "execute_result"
    }
   ],
   "source": [
    "cos_inv = np.arccos(values)\n",
    "cos_inv"
   ]
  },
  {
   "cell_type": "code",
   "execution_count": 96,
   "id": "51bd3117-51fb-41d5-bc80-0a8962231749",
   "metadata": {},
   "outputs": [
    {
     "data": {
      "text/plain": [
       "array([1.26262726, 1.00388482, 0.80844879, 0.66577375])"
      ]
     },
     "execution_count": 96,
     "metadata": {},
     "output_type": "execute_result"
    }
   ],
   "source": [
    "tan_inv = np.arctan(values)\n",
    "tan_inv"
   ]
  },
  {
   "cell_type": "code",
   "execution_count": 98,
   "id": "8e08e2e1-3c2c-402e-864e-dc54eecbb80f",
   "metadata": {},
   "outputs": [
    {
     "data": {
      "text/plain": [
       "array([11.54873936,  2.3012989 ,  1.24936705,  0.86867096])"
      ]
     },
     "execution_count": 98,
     "metadata": {},
     "output_type": "execute_result"
    }
   ],
   "source": [
    "# Hyperbolic Trignometric functions\n",
    "\n",
    "# Hyperbolic sin values\n",
    "\n",
    "sin_val = np.sinh(values)\n",
    "sin_val"
   ]
  },
  {
   "cell_type": "code",
   "execution_count": 100,
   "id": "8c7aea23-3085-4883-823a-d7ba06258bae",
   "metadata": {},
   "outputs": [
    {
     "data": {
      "text/plain": [
       "array([11.59195328,  2.50917848,  1.60028686,  1.32460909])"
      ]
     },
     "execution_count": 100,
     "metadata": {},
     "output_type": "execute_result"
    }
   ],
   "source": [
    "# Hyperbolic cos values\n",
    "\n",
    "cos_val = np.cosh(values)\n",
    "cos_val"
   ]
  },
  {
   "cell_type": "code",
   "execution_count": 102,
   "id": "bbd570f2-dd1c-49d4-8fb1-10c4a4885926",
   "metadata": {},
   "outputs": [
    {
     "data": {
      "text/plain": [
       "array([1.86229574, 1.23340312, 0.91435666, 0.72122549])"
      ]
     },
     "execution_count": 102,
     "metadata": {},
     "output_type": "execute_result"
    }
   ],
   "source": [
    "# Inverse Hyperbolic sin values\n",
    "\n",
    "sin_val = np.arcsinh(values)\n",
    "sin_val"
   ]
  },
  {
   "cell_type": "markdown",
   "id": "836c073c-bf83-44bf-965c-bf68ce2ea29f",
   "metadata": {},
   "source": [
    "### Numpy Set Operations"
   ]
  },
  {
   "cell_type": "code",
   "execution_count": 105,
   "id": "8aa11526-8e5c-4faa-8858-30feab26b98d",
   "metadata": {},
   "outputs": [
    {
     "data": {
      "text/plain": [
       "array([2, 3, 4, 5])"
      ]
     },
     "execution_count": 105,
     "metadata": {},
     "output_type": "execute_result"
    }
   ],
   "source": [
    "arr1 = np.array([2,4,3,2,4,3,5])\n",
    "arr2 = np.array([6,5,4,5,7,4,8])\n",
    "arr1_u = np.unique(arr1)\n",
    "arr1_u"
   ]
  },
  {
   "cell_type": "code",
   "execution_count": 107,
   "id": "54211838-2b3c-46be-8242-4bcd8aae9bc1",
   "metadata": {},
   "outputs": [
    {
     "data": {
      "text/plain": [
       "array([2, 3, 4, 5, 6, 7, 8])"
      ]
     },
     "execution_count": 107,
     "metadata": {},
     "output_type": "execute_result"
    }
   ],
   "source": [
    "# Union\n",
    "\n",
    "arr_3 = np.union1d(arr1,arr2)\n",
    "arr_3"
   ]
  },
  {
   "cell_type": "code",
   "execution_count": 109,
   "id": "2b40f588-1b83-4d8f-af06-9937df91741c",
   "metadata": {},
   "outputs": [
    {
     "data": {
      "text/plain": [
       "array([4, 5])"
      ]
     },
     "execution_count": 109,
     "metadata": {},
     "output_type": "execute_result"
    }
   ],
   "source": [
    "# Intersection\n",
    "arr_3 = np.intersect1d(arr1,arr2)\n",
    "arr_3"
   ]
  },
  {
   "cell_type": "code",
   "execution_count": 111,
   "id": "06859e0a-1374-4433-a08b-474a5eac4a16",
   "metadata": {},
   "outputs": [
    {
     "data": {
      "text/plain": [
       "array([2, 3])"
      ]
     },
     "execution_count": 111,
     "metadata": {},
     "output_type": "execute_result"
    }
   ],
   "source": [
    "# Difference\n",
    "\n",
    "arr_3 = np.setdiff1d(arr1,arr2)\n",
    "arr_3"
   ]
  },
  {
   "cell_type": "code",
   "execution_count": 113,
   "id": "febed7a2-3dc3-4c73-bc03-9ad7dc4632e8",
   "metadata": {},
   "outputs": [
    {
     "data": {
      "text/plain": [
       "array([6, 7, 8])"
      ]
     },
     "execution_count": 113,
     "metadata": {},
     "output_type": "execute_result"
    }
   ],
   "source": [
    "arr_3 = np.setdiff1d(arr2,arr1)\n",
    "arr_3"
   ]
  },
  {
   "cell_type": "code",
   "execution_count": 115,
   "id": "ce2c32d1-f79a-4ad2-9abb-5ba0fb897d45",
   "metadata": {},
   "outputs": [
    {
     "data": {
      "text/plain": [
       "array([2, 3, 6, 7, 8])"
      ]
     },
     "execution_count": 115,
     "metadata": {},
     "output_type": "execute_result"
    }
   ],
   "source": [
    "# Symmetric Difference\n",
    "\n",
    "arr_3 = np.setxor1d(arr2,arr1)\n",
    "arr_3"
   ]
  },
  {
   "cell_type": "code",
   "execution_count": null,
   "id": "4c923d2b-3c17-4ef2-b25d-8c64d031b62c",
   "metadata": {},
   "outputs": [],
   "source": []
  }
 ],
 "metadata": {
  "kernelspec": {
   "display_name": "Python [conda env:base] *",
   "language": "python",
   "name": "conda-base-py"
  },
  "language_info": {
   "codemirror_mode": {
    "name": "ipython",
    "version": 3
   },
   "file_extension": ".py",
   "mimetype": "text/x-python",
   "name": "python",
   "nbconvert_exporter": "python",
   "pygments_lexer": "ipython3",
   "version": "3.12.7"
  },
  "panel-cell-order": [
   "5ec31ae7-adce-453e-9025-bafb6b8c29e9",
   "3c3f0939-1cee-491f-9749-82e5b86045a0",
   "9c34c121-98eb-4d54-b62b-dd1243304265",
   "422bad4a-a483-46c4-ac4e-5c01e87fc08e",
   "5c20139d-f309-4182-9965-ee17b4336dc2",
   "e7c93fff-1907-4e62-b16e-eaab087ce745",
   "21bce22a-bb49-4142-b20b-7b67ce22ea59",
   "f10ecc3c-537f-4134-ad6e-b761416f6793",
   "63b4084e-0ef8-4f1f-94af-259f86ef4681",
   "2fe8e807-5b10-4b06-bcdf-ec04f32efa6c",
   "3de8097c-fee0-4d2d-b8af-692916046aba",
   "35d87792-b597-478b-a1e0-4c3c0bc3da18"
  ]
 },
 "nbformat": 4,
 "nbformat_minor": 5
}
