{
 "cells": [
  {
   "cell_type": "markdown",
   "id": "e8df8861-abd5-40f4-a178-ed5df6ca3c1e",
   "metadata": {},
   "source": [
    "# Numpy - Numerical Python"
   ]
  },
  {
   "cell_type": "code",
   "execution_count": 2,
   "id": "5f33d3bf-b9ad-482b-9431-a4d9d1aece5e",
   "metadata": {},
   "outputs": [],
   "source": [
    "# importing the required library\n",
    "import numpy as np"
   ]
  },
  {
   "cell_type": "code",
   "execution_count": 12,
   "id": "c9cbb460-c335-4b40-a4c2-862eedba9ac9",
   "metadata": {},
   "outputs": [
    {
     "name": "stdout",
     "output_type": "stream",
     "text": [
      "2\n",
      "<class 'numpy.ndarray'>\n",
      "Dimension :  0\n"
     ]
    }
   ],
   "source": [
    "# Creating a 0D array\n",
    "\n",
    "arr0 = np.array(2)\n",
    "print(arr0)\n",
    "print(type(arr0))\n",
    "print(\"Dimension : \",arr0.ndim)"
   ]
  },
  {
   "cell_type": "code",
   "execution_count": 4,
   "id": "bc9a6a40-e7b5-48ba-b501-80d27d034efd",
   "metadata": {},
   "outputs": [
    {
     "name": "stdout",
     "output_type": "stream",
     "text": [
      "[2 3 4 5 6]\n"
     ]
    }
   ],
   "source": [
    "# Creating a 1D array\n",
    "\n",
    "arr = np.array([2,3,4,5,6])\n",
    "print(arr)\n"
   ]
  },
  {
   "cell_type": "code",
   "execution_count": 7,
   "id": "e7741b0f-aa4b-4294-9486-2652f45383cf",
   "metadata": {},
   "outputs": [
    {
     "name": "stdout",
     "output_type": "stream",
     "text": [
      "<class 'numpy.ndarray'>\n",
      "Dimension :  1\n"
     ]
    }
   ],
   "source": [
    "print(type(arr))\n",
    "print(\"Dimension : \",arr.ndim)"
   ]
  },
  {
   "cell_type": "code",
   "execution_count": 8,
   "id": "2eeadf61-895c-4f85-838d-cdd50e92d181",
   "metadata": {},
   "outputs": [
    {
     "name": "stdout",
     "output_type": "stream",
     "text": [
      "['a' 'b' 'c']\n",
      "<class 'numpy.ndarray'>\n",
      "Dimension :  1\n"
     ]
    }
   ],
   "source": [
    "arr_s = np.array(['a','b','c'])\n",
    "print(arr_s)\n",
    "print(type(arr_s))\n",
    "print(\"Dimension : \",arr_s.ndim)"
   ]
  },
  {
   "cell_type": "code",
   "execution_count": 14,
   "id": "b1d21778-753e-4029-be31-fb8a82e97cc4",
   "metadata": {},
   "outputs": [
    {
     "name": "stdout",
     "output_type": "stream",
     "text": [
      "[[ 2  3  4  5  6]\n",
      " [ 7  8  9 10 11]\n",
      " [12 13 14 15 16]]\n",
      "<class 'numpy.ndarray'>\n",
      "Dimension :  2\n"
     ]
    }
   ],
   "source": [
    "# Creating a 2D Array\n",
    "\n",
    "arr2 = np.array([[2,3,4,5,6],[7,8,9,10,11],[12,13,14,15,16]])\n",
    "print(arr2)\n",
    "print(type(arr2))\n",
    "print(\"Dimension : \",arr2.ndim)"
   ]
  },
  {
   "cell_type": "code",
   "execution_count": 13,
   "id": "71940b71-2d5d-4425-aeb5-380e84cf0b1e",
   "metadata": {},
   "outputs": [
    {
     "name": "stdout",
     "output_type": "stream",
     "text": [
      "[[[ 2  3  4  5  6]\n",
      "  [ 7  8  9 10 11]\n",
      "  [12 13 14 15 16]]\n",
      "\n",
      " [[22 23 24 25 26]\n",
      "  [27 28 29 30 11]\n",
      "  [12 13 14 15 16]]]\n",
      "<class 'numpy.ndarray'>\n",
      "Dimension :  3\n"
     ]
    }
   ],
   "source": [
    "# Creating a 3D Array\n",
    "\n",
    "arr3 = np.array([[[2,3,4,5,6],[7,8,9,10,11],[12,13,14,15,16]],[[22,23,24,25,26],[27,28,29,30,11],[12,13,14,15,16]]])\n",
    "print(arr3)\n",
    "print(type(arr3))\n",
    "print(\"Dimension : \",arr3.ndim)"
   ]
  },
  {
   "cell_type": "code",
   "execution_count": 15,
   "id": "3525655d-aece-4a11-934f-f064e8c93d78",
   "metadata": {},
   "outputs": [
    {
     "name": "stdout",
     "output_type": "stream",
     "text": [
      "[[[[[2 3 4 5]]]]]\n",
      "<class 'numpy.ndarray'>\n",
      "Dimension :  5\n"
     ]
    }
   ],
   "source": [
    "# Creating a 5D Array\n",
    "\n",
    "arr5 = np.array([2,3,4,5],ndmin=5)\n",
    "print(arr5)\n",
    "print(type(arr5))\n",
    "print(\"Dimension : \",arr5.ndim)\n",
    "      "
   ]
  },
  {
   "cell_type": "markdown",
   "id": "141fdb4c-9bde-4d10-b1b6-f6bc97b1e21c",
   "metadata": {},
   "source": [
    "### Index and Slicing of Arrays"
   ]
  },
  {
   "cell_type": "code",
   "execution_count": 16,
   "id": "b6311d18-0535-48b1-883e-2b1154f90b2a",
   "metadata": {},
   "outputs": [
    {
     "data": {
      "text/plain": [
       "array([2, 3, 4, 5, 6])"
      ]
     },
     "execution_count": 16,
     "metadata": {},
     "output_type": "execute_result"
    }
   ],
   "source": [
    "# indexing and slicing of a 1D array\n",
    "\n",
    "arr"
   ]
  },
  {
   "cell_type": "code",
   "execution_count": 17,
   "id": "36988b96-9227-435a-9e92-619d46797e78",
   "metadata": {},
   "outputs": [
    {
     "data": {
      "text/plain": [
       "4"
      ]
     },
     "execution_count": 17,
     "metadata": {},
     "output_type": "execute_result"
    }
   ],
   "source": [
    "arr[2]"
   ]
  },
  {
   "cell_type": "code",
   "execution_count": 18,
   "id": "12c6e012-230b-49be-b6f7-4d98b5c666e1",
   "metadata": {},
   "outputs": [
    {
     "data": {
      "text/plain": [
       "array([3, 4, 5])"
      ]
     },
     "execution_count": 18,
     "metadata": {},
     "output_type": "execute_result"
    }
   ],
   "source": [
    "arr[1:4]"
   ]
  },
  {
   "cell_type": "code",
   "execution_count": 39,
   "id": "41d5fe89-56be-46cb-8b0b-d6f1f62a19cd",
   "metadata": {},
   "outputs": [
    {
     "data": {
      "text/plain": [
       "array([3, 6])"
      ]
     },
     "execution_count": 39,
     "metadata": {},
     "output_type": "execute_result"
    }
   ],
   "source": [
    "# step Slicing\n",
    "\n",
    "arr[1:5:3]\n"
   ]
  },
  {
   "cell_type": "code",
   "execution_count": 40,
   "id": "bad78b11-cd5a-4451-9a3c-69318ff7c2dc",
   "metadata": {},
   "outputs": [
    {
     "data": {
      "text/plain": [
       "array([2, 6])"
      ]
     },
     "execution_count": 40,
     "metadata": {},
     "output_type": "execute_result"
    }
   ],
   "source": [
    "arr[::4]"
   ]
  },
  {
   "cell_type": "code",
   "execution_count": 19,
   "id": "a1fd1807-9b19-4d6f-ae89-44043fed2911",
   "metadata": {},
   "outputs": [
    {
     "data": {
      "text/plain": [
       "array([[ 2,  3,  4,  5,  6],\n",
       "       [ 7,  8,  9, 10, 11],\n",
       "       [12, 13, 14, 15, 16]])"
      ]
     },
     "execution_count": 19,
     "metadata": {},
     "output_type": "execute_result"
    }
   ],
   "source": [
    "# indexing and slicing of a 2D array\n",
    "\n",
    "arr2"
   ]
  },
  {
   "cell_type": "code",
   "execution_count": 21,
   "id": "4f86ab95-62bd-42ff-8577-61b84f1f6593",
   "metadata": {},
   "outputs": [
    {
     "data": {
      "text/plain": [
       "8"
      ]
     },
     "execution_count": 21,
     "metadata": {},
     "output_type": "execute_result"
    }
   ],
   "source": [
    "arr2[1,1]"
   ]
  },
  {
   "cell_type": "code",
   "execution_count": 23,
   "id": "93be5bca-2cbf-45de-8429-ef17d545ec84",
   "metadata": {},
   "outputs": [
    {
     "data": {
      "text/plain": [
       "15"
      ]
     },
     "execution_count": 23,
     "metadata": {},
     "output_type": "execute_result"
    }
   ],
   "source": [
    "arr2[2,3]"
   ]
  },
  {
   "cell_type": "code",
   "execution_count": 24,
   "id": "849e8240-a863-426a-a79d-0d44cb21cd24",
   "metadata": {},
   "outputs": [
    {
     "data": {
      "text/plain": [
       "6"
      ]
     },
     "execution_count": 24,
     "metadata": {},
     "output_type": "execute_result"
    }
   ],
   "source": [
    "arr2[0,4]"
   ]
  },
  {
   "cell_type": "code",
   "execution_count": 25,
   "id": "5e4ae4a1-bb66-4582-837f-cb255c01b3de",
   "metadata": {},
   "outputs": [
    {
     "data": {
      "text/plain": [
       "12"
      ]
     },
     "execution_count": 25,
     "metadata": {},
     "output_type": "execute_result"
    }
   ],
   "source": [
    "arr2[2,0]"
   ]
  },
  {
   "cell_type": "code",
   "execution_count": 28,
   "id": "6372a7fd-deec-43e0-951e-34d370731df9",
   "metadata": {},
   "outputs": [
    {
     "data": {
      "text/plain": [
       "array([[ 4,  5],\n",
       "       [ 9, 10]])"
      ]
     },
     "execution_count": 28,
     "metadata": {},
     "output_type": "execute_result"
    }
   ],
   "source": [
    "arr2[0:2,2:4]"
   ]
  },
  {
   "cell_type": "code",
   "execution_count": 31,
   "id": "52af7881-e523-4700-8ebb-a026644984c7",
   "metadata": {},
   "outputs": [
    {
     "data": {
      "text/plain": [
       "array([[10, 11],\n",
       "       [15, 16]])"
      ]
     },
     "execution_count": 31,
     "metadata": {},
     "output_type": "execute_result"
    }
   ],
   "source": [
    "arr2[1:3,3:5]"
   ]
  },
  {
   "cell_type": "code",
   "execution_count": 34,
   "id": "ef226ee8-07b6-4733-961c-2d0acd1a4862",
   "metadata": {},
   "outputs": [
    {
     "data": {
      "text/plain": [
       "array([[ 7,  8,  9, 10, 11]])"
      ]
     },
     "execution_count": 34,
     "metadata": {},
     "output_type": "execute_result"
    }
   ],
   "source": [
    "arr2[1:2,:]"
   ]
  },
  {
   "cell_type": "code",
   "execution_count": 41,
   "id": "aa0da1ea-2490-4e56-ba41-a6cb7c9bd965",
   "metadata": {},
   "outputs": [
    {
     "data": {
      "text/plain": [
       "array([[ 2,  3,  4,  5,  6],\n",
       "       [ 7,  8,  9, 10, 11],\n",
       "       [12, 13, 14, 15, 16]])"
      ]
     },
     "execution_count": 41,
     "metadata": {},
     "output_type": "execute_result"
    }
   ],
   "source": [
    "arr2"
   ]
  },
  {
   "cell_type": "code",
   "execution_count": 42,
   "id": "6f27dc7c-eb22-43ef-9020-15acfbf5b77c",
   "metadata": {},
   "outputs": [
    {
     "data": {
      "text/plain": [
       "array([[ 3,  5],\n",
       "       [ 8, 10],\n",
       "       [13, 15]])"
      ]
     },
     "execution_count": 42,
     "metadata": {},
     "output_type": "execute_result"
    }
   ],
   "source": [
    "arr2[:,1:4:2]"
   ]
  },
  {
   "cell_type": "code",
   "execution_count": 46,
   "id": "9996a28c-8bab-497d-ab1a-44b4360b398e",
   "metadata": {},
   "outputs": [
    {
     "data": {
      "text/plain": [
       "array([[2, 4],\n",
       "       [7, 9]])"
      ]
     },
     "execution_count": 46,
     "metadata": {},
     "output_type": "execute_result"
    }
   ],
   "source": [
    "arr2[0:2,0:3:2]"
   ]
  },
  {
   "cell_type": "code",
   "execution_count": 45,
   "id": "dcda25f3-5afb-488b-98d2-f064b5a3ca98",
   "metadata": {},
   "outputs": [
    {
     "data": {
      "text/plain": [
       "array([[ 2,  5],\n",
       "       [12, 15]])"
      ]
     },
     "execution_count": 45,
     "metadata": {},
     "output_type": "execute_result"
    }
   ],
   "source": [
    "arr2[::2,:4:3]"
   ]
  },
  {
   "cell_type": "code",
   "execution_count": 48,
   "id": "557cf790-fa86-460d-b015-3cdf6dad4444",
   "metadata": {},
   "outputs": [
    {
     "data": {
      "text/plain": [
       "array([[[ 2,  3,  4,  5,  6],\n",
       "        [ 7,  8,  9, 10, 11],\n",
       "        [12, 13, 14, 15, 16]],\n",
       "\n",
       "       [[22, 23, 24, 25, 26],\n",
       "        [27, 28, 29, 30, 11],\n",
       "        [12, 13, 14, 15, 16]]])"
      ]
     },
     "execution_count": 48,
     "metadata": {},
     "output_type": "execute_result"
    }
   ],
   "source": [
    "# indexing and slicing of a 3D array\n",
    "\n",
    "arr3"
   ]
  },
  {
   "cell_type": "code",
   "execution_count": 50,
   "id": "0840142d-96e3-4e68-97fa-25d59f573ef1",
   "metadata": {},
   "outputs": [
    {
     "data": {
      "text/plain": [
       "10"
      ]
     },
     "execution_count": 50,
     "metadata": {},
     "output_type": "execute_result"
    }
   ],
   "source": [
    "arr3[0,1,3]"
   ]
  },
  {
   "cell_type": "code",
   "execution_count": 53,
   "id": "9df66b96-0b36-49f6-ab86-65d751cc7bfa",
   "metadata": {},
   "outputs": [
    {
     "data": {
      "text/plain": [
       "28"
      ]
     },
     "execution_count": 53,
     "metadata": {},
     "output_type": "execute_result"
    }
   ],
   "source": [
    "arr3[1,1,1]"
   ]
  },
  {
   "cell_type": "code",
   "execution_count": 54,
   "id": "771431af-2359-4c67-950d-8ff0553afb84",
   "metadata": {},
   "outputs": [
    {
     "data": {
      "text/plain": [
       "array([[[ 3,  5],\n",
       "        [ 8, 10],\n",
       "        [13, 15]],\n",
       "\n",
       "       [[23, 25],\n",
       "        [28, 30],\n",
       "        [13, 15]]])"
      ]
     },
     "execution_count": 54,
     "metadata": {},
     "output_type": "execute_result"
    }
   ],
   "source": [
    "arr3[:,:,1:4:2]"
   ]
  },
  {
   "cell_type": "code",
   "execution_count": 55,
   "id": "0948a9d2-3d0f-472b-9869-5c508da19fb6",
   "metadata": {},
   "outputs": [
    {
     "data": {
      "text/plain": [
       "array([[[ 8,  9],\n",
       "        [13, 14]],\n",
       "\n",
       "       [[28, 29],\n",
       "        [13, 14]]])"
      ]
     },
     "execution_count": 55,
     "metadata": {},
     "output_type": "execute_result"
    }
   ],
   "source": [
    "arr3[:,1:3,1:3]"
   ]
  },
  {
   "cell_type": "code",
   "execution_count": 56,
   "id": "70c69fb1-4eb0-424d-863b-eb0f2e92f2e4",
   "metadata": {},
   "outputs": [
    {
     "data": {
      "text/plain": [
       "array([[[ 2,  3,  4,  5,  6],\n",
       "        [ 7,  8,  9, 10, 11],\n",
       "        [12, 13, 14, 15, 16]],\n",
       "\n",
       "       [[22, 23, 24, 25, 26],\n",
       "        [27, 28, 29, 30, 11],\n",
       "        [12, 13, 14, 15, 16]]])"
      ]
     },
     "execution_count": 56,
     "metadata": {},
     "output_type": "execute_result"
    }
   ],
   "source": [
    "arr3"
   ]
  },
  {
   "cell_type": "code",
   "execution_count": 63,
   "id": "1aab6320-37d9-46ad-a36c-8d8f6d5b655b",
   "metadata": {},
   "outputs": [
    {
     "data": {
      "text/plain": [
       "array([[22, 25],\n",
       "       [12, 15]])"
      ]
     },
     "execution_count": 63,
     "metadata": {},
     "output_type": "execute_result"
    }
   ],
   "source": [
    "arr3[1,0:3:2,0:4:3]"
   ]
  },
  {
   "cell_type": "code",
   "execution_count": null,
   "id": "feed7616-ffd8-4ebf-8599-877bb07cc8bb",
   "metadata": {},
   "outputs": [],
   "source": []
  }
 ],
 "metadata": {
  "kernelspec": {
   "display_name": "Python 3 (ipykernel)",
   "language": "python",
   "name": "python3"
  },
  "language_info": {
   "codemirror_mode": {
    "name": "ipython",
    "version": 3
   },
   "file_extension": ".py",
   "mimetype": "text/x-python",
   "name": "python",
   "nbconvert_exporter": "python",
   "pygments_lexer": "ipython3",
   "version": "3.12.7"
  }
 },
 "nbformat": 4,
 "nbformat_minor": 5
}
