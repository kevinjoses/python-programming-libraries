{
 "cells": [
  {
   "cell_type": "markdown",
   "id": "7666133a-e261-41c0-8306-55e407ee03de",
   "metadata": {},
   "source": [
    "## Numerical Python - Numpy"
   ]
  },
  {
   "cell_type": "code",
   "execution_count": 2,
   "id": "d712f6cf-907c-4608-ac68-195eb724dc7e",
   "metadata": {},
   "outputs": [],
   "source": [
    "# Importing numpy as np\n",
    "\n",
    "import numpy as np"
   ]
  },
  {
   "cell_type": "code",
   "execution_count": 3,
   "id": "e020ced4-26e3-4aab-a4a9-4959588342d3",
   "metadata": {},
   "outputs": [
    {
     "name": "stdout",
     "output_type": "stream",
     "text": [
      "5\n",
      "<class 'numpy.ndarray'>\n",
      "Dimension :  0\n"
     ]
    }
   ],
   "source": [
    "# Creating a 0D Array\n",
    "\n",
    "arr0 = np.array(5)\n",
    "print(arr0)\n",
    "print(type(arr0))\n",
    "print(\"Dimension : \",arr0.ndim)"
   ]
  },
  {
   "cell_type": "code",
   "execution_count": 4,
   "id": "89b35419-e42f-4592-8a00-b1e5fd573bb0",
   "metadata": {},
   "outputs": [
    {
     "name": "stdout",
     "output_type": "stream",
     "text": [
      "[1 2 3 4]\n",
      "<class 'numpy.ndarray'>\n",
      "Dimension :  1\n"
     ]
    }
   ],
   "source": [
    "# Creating a 1D Array\n",
    "\n",
    "arr1 = np.array([1,2,3,4])\n",
    "print(arr1)\n",
    "print(type(arr1))\n",
    "print(\"Dimension : \",arr1.ndim)"
   ]
  },
  {
   "cell_type": "code",
   "execution_count": 5,
   "id": "dc65df1b-608a-46b1-bba8-a1a0414a3e9e",
   "metadata": {},
   "outputs": [
    {
     "name": "stdout",
     "output_type": "stream",
     "text": [
      "[[ 1  2  3  4]\n",
      " [ 5  6  7  8]\n",
      " [ 9 10 11 12]]\n",
      "<class 'numpy.ndarray'>\n",
      "Dimension :  2\n"
     ]
    }
   ],
   "source": [
    "# Creating a 2D Array\n",
    "\n",
    "arr2 = np.array([[1,2,3,4],[5,6,7,8],[9,10,11,12]])\n",
    "print(arr2)\n",
    "print(type(arr2))\n",
    "print(\"Dimension : \",arr2.ndim)"
   ]
  },
  {
   "cell_type": "code",
   "execution_count": 6,
   "id": "9d247875-6d16-42d5-bb77-603762705d16",
   "metadata": {},
   "outputs": [
    {
     "name": "stdout",
     "output_type": "stream",
     "text": [
      "[[[ 1  2  3  4]\n",
      "  [ 5  6  7  8]\n",
      "  [ 9 10 11 12]]\n",
      "\n",
      " [[13 14 15 16]\n",
      "  [17 18 19 20]\n",
      "  [21 22 23 24]]]\n",
      "<class 'numpy.ndarray'>\n",
      "Dimension :  3\n"
     ]
    }
   ],
   "source": [
    "# Creating a 3D Array\n",
    "\n",
    "arr3 = np.array([[[1,2,3,4],[5,6,7,8],[9,10,11,12]],[[13,14,15,16],[17,18,19,20],[21,22,23,24]]])\n",
    "print(arr3)\n",
    "print(type(arr3))\n",
    "print(\"Dimension : \",arr3.ndim)"
   ]
  },
  {
   "cell_type": "markdown",
   "id": "b89e6a74-f36e-4a09-9d72-f52f0ee50211",
   "metadata": {},
   "source": [
    "## Indexing and Slicing "
   ]
  },
  {
   "cell_type": "code",
   "execution_count": 8,
   "id": "9bbf168f-6f67-4f23-8433-4a5788c3c51b",
   "metadata": {},
   "outputs": [
    {
     "name": "stdout",
     "output_type": "stream",
     "text": [
      "4\n"
     ]
    }
   ],
   "source": [
    "# Indexing in 1D Array\n",
    "\n",
    "print(arr1[3])"
   ]
  },
  {
   "cell_type": "code",
   "execution_count": 9,
   "id": "7fa5143c-1f5a-4f48-9667-e41223052007",
   "metadata": {},
   "outputs": [
    {
     "name": "stdout",
     "output_type": "stream",
     "text": [
      "[[ 1  2  3  4]\n",
      " [ 5  6  7  8]\n",
      " [ 9 10 11 12]]\n"
     ]
    }
   ],
   "source": [
    "# Indexing in 2D Array\n",
    "\n",
    "print(arr2)"
   ]
  },
  {
   "cell_type": "code",
   "execution_count": 10,
   "id": "404c45b7-9292-48b8-8530-0c07b2ef2b8c",
   "metadata": {},
   "outputs": [
    {
     "name": "stdout",
     "output_type": "stream",
     "text": [
      "11\n"
     ]
    }
   ],
   "source": [
    "print(arr2[2,2])"
   ]
  },
  {
   "cell_type": "code",
   "execution_count": 11,
   "id": "6a879d14-a1f0-4cd5-9656-b9fc9fb55750",
   "metadata": {},
   "outputs": [
    {
     "name": "stdout",
     "output_type": "stream",
     "text": [
      "8\n"
     ]
    }
   ],
   "source": [
    "print(arr2[1,3])"
   ]
  },
  {
   "cell_type": "code",
   "execution_count": 12,
   "id": "607b7959-972a-45ff-9bb3-0c5d6cf99994",
   "metadata": {},
   "outputs": [
    {
     "name": "stdout",
     "output_type": "stream",
     "text": [
      "[[ 2  3]\n",
      " [ 6  7]\n",
      " [10 11]]\n"
     ]
    }
   ],
   "source": [
    "# Slicing in 2D Array\n",
    "\n",
    "print(arr2[0:3,1:3])"
   ]
  },
  {
   "cell_type": "code",
   "execution_count": 13,
   "id": "2ef3259a-20e8-4580-a0c2-8711a76c0846",
   "metadata": {},
   "outputs": [
    {
     "name": "stdout",
     "output_type": "stream",
     "text": [
      "[[ 3  4]\n",
      " [ 7  8]\n",
      " [11 12]]\n"
     ]
    }
   ],
   "source": [
    "print(arr2[0:3,2:4])"
   ]
  },
  {
   "cell_type": "code",
   "execution_count": 14,
   "id": "aa947486-b3ef-4489-8443-fd3a31f58b76",
   "metadata": {},
   "outputs": [
    {
     "name": "stdout",
     "output_type": "stream",
     "text": [
      "[[ 1  3]\n",
      " [ 5  7]\n",
      " [ 9 11]]\n"
     ]
    }
   ],
   "source": [
    "# Step-Slicing in 2D Array\n",
    "\n",
    "print(arr2[0:3,0:3:2])"
   ]
  },
  {
   "cell_type": "code",
   "execution_count": 15,
   "id": "2494ef27-ec44-475e-b8ac-eeeb337efd45",
   "metadata": {},
   "outputs": [
    {
     "name": "stdout",
     "output_type": "stream",
     "text": [
      "[[ 2  4]\n",
      " [ 6  8]\n",
      " [10 12]]\n"
     ]
    }
   ],
   "source": [
    "print(arr2[0:3,1:4:2])"
   ]
  },
  {
   "cell_type": "code",
   "execution_count": 16,
   "id": "8f00e5cc-c445-464c-8fa5-bd06c90ec45c",
   "metadata": {},
   "outputs": [
    {
     "name": "stdout",
     "output_type": "stream",
     "text": [
      "[[6]]\n"
     ]
    }
   ],
   "source": [
    "print(arr2[1:2,1:3:2])"
   ]
  },
  {
   "cell_type": "code",
   "execution_count": 17,
   "id": "b722f984-c8c9-4104-b23b-bf2f1175b994",
   "metadata": {},
   "outputs": [
    {
     "name": "stdout",
     "output_type": "stream",
     "text": [
      "[[[ 1  2  3  4]\n",
      "  [ 5  6  7  8]\n",
      "  [ 9 10 11 12]]\n",
      "\n",
      " [[13 14 15 16]\n",
      "  [17 18 19 20]\n",
      "  [21 22 23 24]]]\n"
     ]
    }
   ],
   "source": [
    "# Indexing in 3D Array\n",
    "\n",
    "print(arr3)"
   ]
  },
  {
   "cell_type": "code",
   "execution_count": 18,
   "id": "55782ed1-adb3-4350-98d6-4f3fe56a6ba5",
   "metadata": {},
   "outputs": [
    {
     "name": "stdout",
     "output_type": "stream",
     "text": [
      "8\n"
     ]
    }
   ],
   "source": [
    "print(arr3[0,1,3])"
   ]
  },
  {
   "cell_type": "code",
   "execution_count": 19,
   "id": "5227315f-15f8-429e-a63b-e21d82bf385c",
   "metadata": {},
   "outputs": [
    {
     "name": "stdout",
     "output_type": "stream",
     "text": [
      "[[[8]]]\n"
     ]
    }
   ],
   "source": [
    "print(arr3[0:1,1:2,3:4])"
   ]
  },
  {
   "cell_type": "code",
   "execution_count": 20,
   "id": "870bf0ce-ca36-4630-b013-f101d7726359",
   "metadata": {},
   "outputs": [
    {
     "name": "stdout",
     "output_type": "stream",
     "text": [
      "[[[ 6  7]\n",
      "  [10 11]]\n",
      "\n",
      " [[18 19]\n",
      "  [22 23]]]\n"
     ]
    }
   ],
   "source": [
    "# Slicing in 3D Array\n",
    "\n",
    "print(arr3[0:2,1:3,1:3])"
   ]
  },
  {
   "cell_type": "code",
   "execution_count": 21,
   "id": "74d7428c-315e-4b36-bdac-8bb324a82334",
   "metadata": {},
   "outputs": [
    {
     "name": "stdout",
     "output_type": "stream",
     "text": [
      "[[[14 15 16]\n",
      "  [18 19 20]\n",
      "  [22 23 24]]]\n"
     ]
    }
   ],
   "source": [
    "print(arr3[1:2,0:3,1:4])"
   ]
  },
  {
   "cell_type": "code",
   "execution_count": 22,
   "id": "a897ed67-7c3f-42f3-b873-c653ebb5f5c5",
   "metadata": {},
   "outputs": [
    {
     "name": "stdout",
     "output_type": "stream",
     "text": [
      "[[[ 2  4]\n",
      "  [ 6  8]]\n",
      "\n",
      " [[14 16]\n",
      "  [18 20]]]\n"
     ]
    }
   ],
   "source": [
    "# Step-Slicing in 3D Array\n",
    "\n",
    "print(arr3[0:2,0:2,1:4:2])"
   ]
  },
  {
   "cell_type": "code",
   "execution_count": 23,
   "id": "8662c3fe-3a0c-487b-bcd6-2e3aa41cfdbc",
   "metadata": {},
   "outputs": [
    {
     "name": "stdout",
     "output_type": "stream",
     "text": [
      "4\n"
     ]
    }
   ],
   "source": [
    "# Negative Indexing\n",
    "\n",
    "print(arr1[-1])"
   ]
  },
  {
   "cell_type": "code",
   "execution_count": 24,
   "id": "646ca44f-c344-48a1-89e4-60fcfe217b37",
   "metadata": {},
   "outputs": [
    {
     "name": "stdout",
     "output_type": "stream",
     "text": [
      "[2 3]\n"
     ]
    }
   ],
   "source": [
    "print(arr1[-3:-1])\n"
   ]
  },
  {
   "cell_type": "code",
   "execution_count": 25,
   "id": "350cb901-ca2f-4c9c-83c7-6feb95719ad1",
   "metadata": {},
   "outputs": [
    {
     "name": "stdout",
     "output_type": "stream",
     "text": [
      "[[2 3]\n",
      " [6 7]]\n"
     ]
    }
   ],
   "source": [
    "print(arr2[0:2,-3:-1])\n"
   ]
  },
  {
   "cell_type": "code",
   "execution_count": 26,
   "id": "d1d1c1a4-9d04-485e-a9ad-0abda58cd416",
   "metadata": {},
   "outputs": [
    {
     "name": "stdout",
     "output_type": "stream",
     "text": [
      "[[ 5  7]\n",
      " [ 9 11]]\n"
     ]
    }
   ],
   "source": [
    "print(arr2[1:3,-5:-1:2])\n"
   ]
  },
  {
   "cell_type": "code",
   "execution_count": 27,
   "id": "dd5a10f0-6406-485b-902e-f935c50e713c",
   "metadata": {},
   "outputs": [
    {
     "name": "stdout",
     "output_type": "stream",
     "text": [
      "[[[ 2  3]\n",
      "  [ 6  7]\n",
      "  [10 11]]]\n"
     ]
    }
   ],
   "source": [
    "print(arr3[0:1,0:3,-3:-1])"
   ]
  },
  {
   "cell_type": "code",
   "execution_count": 28,
   "id": "e8c756e2-71b5-4230-b90c-0acb9a17c153",
   "metadata": {},
   "outputs": [
    {
     "data": {
      "text/plain": [
       "dtype('int32')"
      ]
     },
     "execution_count": 28,
     "metadata": {},
     "output_type": "execute_result"
    }
   ],
   "source": [
    "# To check the Datatype\n",
    "\n",
    "arr1.dtype"
   ]
  },
  {
   "cell_type": "code",
   "execution_count": 29,
   "id": "827911c6-cc5d-4c39-b40b-fb7ec5469b53",
   "metadata": {},
   "outputs": [
    {
     "data": {
      "text/plain": [
       "dtype('int32')"
      ]
     },
     "execution_count": 29,
     "metadata": {},
     "output_type": "execute_result"
    }
   ],
   "source": [
    "arr2.dtype"
   ]
  },
  {
   "cell_type": "code",
   "execution_count": 30,
   "id": "c79d4185-1543-4446-babd-27bdc41b4017",
   "metadata": {},
   "outputs": [
    {
     "data": {
      "text/plain": [
       "array([b'1', b'2', b'3', b'4'], dtype='|S11')"
      ]
     },
     "execution_count": 30,
     "metadata": {},
     "output_type": "execute_result"
    }
   ],
   "source": [
    "# Changing datatype\n",
    "\n",
    "arr_string = arr1.astype('S')\n",
    "arr_string\n"
   ]
  },
  {
   "cell_type": "code",
   "execution_count": 31,
   "id": "636f8246-9050-45bd-948a-fbad861bcbe8",
   "metadata": {},
   "outputs": [
    {
     "data": {
      "text/plain": [
       "array([[ 1.,  2.,  3.,  4.],\n",
       "       [ 5.,  6.,  7.,  8.],\n",
       "       [ 9., 10., 11., 12.]], dtype=float32)"
      ]
     },
     "execution_count": 31,
     "metadata": {},
     "output_type": "execute_result"
    }
   ],
   "source": [
    "arr_float = arr2.astype('f')\n",
    "arr_float"
   ]
  },
  {
   "cell_type": "code",
   "execution_count": 32,
   "id": "e17dcd4d-8381-4627-aca5-9c3497078da6",
   "metadata": {},
   "outputs": [
    {
     "name": "stdout",
     "output_type": "stream",
     "text": [
      "[1 2 3 4]\n"
     ]
    }
   ],
   "source": [
    "# Copy and View\n",
    "\n",
    "arr_c = arr1.copy()\n",
    "print(arr_c)"
   ]
  },
  {
   "cell_type": "code",
   "execution_count": 33,
   "id": "2f94fcba-e825-4897-a996-f96ec9efedb5",
   "metadata": {},
   "outputs": [
    {
     "name": "stdout",
     "output_type": "stream",
     "text": [
      "[[ 1  2  3  4]\n",
      " [ 5  6  7  8]\n",
      " [ 9 10 11 12]]\n"
     ]
    }
   ],
   "source": [
    "arr_c = arr2.copy()\n",
    "print(arr_c)"
   ]
  },
  {
   "cell_type": "code",
   "execution_count": 34,
   "id": "defda25e-7997-40da-8011-980e9b7a5e3a",
   "metadata": {},
   "outputs": [
    {
     "data": {
      "text/plain": [
       "array([1, 2, 3, 4])"
      ]
     },
     "execution_count": 34,
     "metadata": {},
     "output_type": "execute_result"
    }
   ],
   "source": [
    "arr1.view()"
   ]
  },
  {
   "cell_type": "code",
   "execution_count": 35,
   "id": "a6ff17f9-4516-49c5-a632-46688104c268",
   "metadata": {},
   "outputs": [
    {
     "data": {
      "text/plain": [
       "array([[ 1,  2,  3,  4],\n",
       "       [ 5,  6,  7,  8],\n",
       "       [ 9, 10, 11, 12]])"
      ]
     },
     "execution_count": 35,
     "metadata": {},
     "output_type": "execute_result"
    }
   ],
   "source": [
    "arr2.view()"
   ]
  },
  {
   "cell_type": "code",
   "execution_count": 36,
   "id": "26b31890-5d0d-41e6-a68d-466a2f58eaf2",
   "metadata": {},
   "outputs": [
    {
     "data": {
      "text/plain": [
       "array([[[ 1,  2,  3,  4],\n",
       "        [ 5,  6,  7,  8],\n",
       "        [ 9, 10, 11, 12]],\n",
       "\n",
       "       [[13, 14, 15, 16],\n",
       "        [17, 18, 19, 20],\n",
       "        [21, 22, 23, 24]]])"
      ]
     },
     "execution_count": 36,
     "metadata": {},
     "output_type": "execute_result"
    }
   ],
   "source": [
    "arr3.view()"
   ]
  },
  {
   "cell_type": "code",
   "execution_count": 37,
   "id": "a4ad7331-9bdf-4443-a664-10f718402f9f",
   "metadata": {},
   "outputs": [
    {
     "data": {
      "text/plain": [
       "(4,)"
      ]
     },
     "execution_count": 37,
     "metadata": {},
     "output_type": "execute_result"
    }
   ],
   "source": [
    "#Returning the shape the of an Array\n",
    "\n",
    "arr1.shape\n"
   ]
  },
  {
   "cell_type": "code",
   "execution_count": 38,
   "id": "178369db-0d72-48a9-9de3-6d917c279ca6",
   "metadata": {},
   "outputs": [
    {
     "data": {
      "text/plain": [
       "(3, 4)"
      ]
     },
     "execution_count": 38,
     "metadata": {},
     "output_type": "execute_result"
    }
   ],
   "source": [
    "arr2.shape"
   ]
  },
  {
   "cell_type": "code",
   "execution_count": 39,
   "id": "7dbd3072-47e5-4ff1-ab47-ba5c15ef95ec",
   "metadata": {},
   "outputs": [
    {
     "data": {
      "text/plain": [
       "(2, 3, 4)"
      ]
     },
     "execution_count": 39,
     "metadata": {},
     "output_type": "execute_result"
    }
   ],
   "source": [
    "arr3.shape\n"
   ]
  },
  {
   "cell_type": "code",
   "execution_count": 40,
   "id": "a6531654-e7fe-4a99-8542-170cafc8d5cf",
   "metadata": {},
   "outputs": [
    {
     "data": {
      "text/plain": [
       "array([[ 1,  2,  3,  4],\n",
       "       [ 5,  6,  7,  8],\n",
       "       [ 9, 10, 11, 12]])"
      ]
     },
     "execution_count": 40,
     "metadata": {},
     "output_type": "execute_result"
    }
   ],
   "source": [
    "# Reshaping an Array\n",
    "\n",
    "arr2"
   ]
  },
  {
   "cell_type": "code",
   "execution_count": 41,
   "id": "d67361f2-9d19-4a34-9723-eb5541ae03a5",
   "metadata": {},
   "outputs": [
    {
     "data": {
      "text/plain": [
       "array([[ 1,  2,  3,  4,  5,  6,  7,  8,  9, 10, 11, 12]])"
      ]
     },
     "execution_count": 41,
     "metadata": {},
     "output_type": "execute_result"
    }
   ],
   "source": [
    "ary = arr2.reshape(1,12)\n",
    "ary\n"
   ]
  },
  {
   "cell_type": "code",
   "execution_count": 42,
   "id": "c20ec7f6-66bb-41d1-9b50-a4c88cefb156",
   "metadata": {},
   "outputs": [
    {
     "data": {
      "text/plain": [
       "array([[ 1,  2,  3,  4,  5,  6],\n",
       "       [ 7,  8,  9, 10, 11, 12]])"
      ]
     },
     "execution_count": 42,
     "metadata": {},
     "output_type": "execute_result"
    }
   ],
   "source": [
    "ark = arr2.reshape(2,6)\n",
    "ark"
   ]
  },
  {
   "cell_type": "code",
   "execution_count": 43,
   "id": "0614e356-66a3-4575-85c1-46161068ce9d",
   "metadata": {},
   "outputs": [
    {
     "data": {
      "text/plain": [
       "array([[[ 1,  2],\n",
       "        [ 3,  4],\n",
       "        [ 5,  6],\n",
       "        [ 7,  8]],\n",
       "\n",
       "       [[ 9, 10],\n",
       "        [11, 12],\n",
       "        [13, 14],\n",
       "        [15, 16]],\n",
       "\n",
       "       [[17, 18],\n",
       "        [19, 20],\n",
       "        [21, 22],\n",
       "        [23, 24]]])"
      ]
     },
     "execution_count": 43,
     "metadata": {},
     "output_type": "execute_result"
    }
   ],
   "source": [
    "abb = arr3.reshape(3,4,2)\n",
    "abb\n"
   ]
  },
  {
   "cell_type": "code",
   "execution_count": 44,
   "id": "fb50d6be-32b2-4f2a-8caa-ded54c540951",
   "metadata": {},
   "outputs": [
    {
     "data": {
      "text/plain": [
       "array([ 1,  2,  3,  4,  5,  6,  7,  8,  9, 10, 11, 12, 13, 14, 15, 16, 17,\n",
       "       18, 19, 20, 21, 22, 23, 24])"
      ]
     },
     "execution_count": 44,
     "metadata": {},
     "output_type": "execute_result"
    }
   ],
   "source": [
    "# Negative Reshaping\n",
    "\n",
    "asx = arr3.reshape(-1)\n",
    "asx\n"
   ]
  },
  {
   "cell_type": "code",
   "execution_count": 45,
   "id": "17dd52bf-d711-4cf2-8a1c-cd3042c11be0",
   "metadata": {},
   "outputs": [
    {
     "data": {
      "text/plain": [
       "array([1, 2, 3, 4])"
      ]
     },
     "execution_count": 45,
     "metadata": {},
     "output_type": "execute_result"
    }
   ],
   "source": [
    "# Numpy Array Interation\n",
    "\n",
    "arr1.view()"
   ]
  },
  {
   "cell_type": "code",
   "execution_count": 46,
   "id": "4f303599-285b-45bf-ab9e-fc2f11369464",
   "metadata": {},
   "outputs": [
    {
     "name": "stdout",
     "output_type": "stream",
     "text": [
      "1 2 3 4 "
     ]
    }
   ],
   "source": [
    "for i in arr1:\n",
    "    print(i,end=' ')"
   ]
  },
  {
   "cell_type": "code",
   "execution_count": 47,
   "id": "1ddaa6b5-8125-4edf-b887-5927d10dc94f",
   "metadata": {},
   "outputs": [
    {
     "name": "stdout",
     "output_type": "stream",
     "text": [
      "1 2 3 4 5 6 7 8 9 10 11 12 "
     ]
    }
   ],
   "source": [
    "for i in arr2:\n",
    "    for j in i:\n",
    "        print(j,end=' ')\n",
    "\n"
   ]
  },
  {
   "cell_type": "code",
   "execution_count": 48,
   "id": "52c910ab-6a72-4728-84c9-74f65b221959",
   "metadata": {},
   "outputs": [
    {
     "name": "stdout",
     "output_type": "stream",
     "text": [
      "1 2 3 4 5 6 7 8 9 10 11 12 13 14 15 16 17 18 19 20 21 22 23 24 "
     ]
    }
   ],
   "source": [
    "for i in arr3:\n",
    "    for j in i:\n",
    "        for k in j:\n",
    "            print(k,end=' ')\n",
    "\n"
   ]
  },
  {
   "cell_type": "markdown",
   "id": "cdb15a35-ee39-4c3e-9ad9-fd8cafb33aff",
   "metadata": {},
   "source": [
    "## Numpy Joining Arrays\n"
   ]
  },
  {
   "cell_type": "code",
   "execution_count": 50,
   "id": "feb5870a-47b5-4bfc-8bfc-4e0ba4ceb544",
   "metadata": {},
   "outputs": [
    {
     "name": "stdout",
     "output_type": "stream",
     "text": [
      "[12 14 16 18 20]\n",
      "[5 8 3 9 6]\n"
     ]
    }
   ],
   "source": [
    "arr00 = np.array([12,14,16,18,20])\n",
    "print(arr00)\n",
    "arr01 = np.array([5,8,3,9,6])\n",
    "print(arr01)"
   ]
  },
  {
   "cell_type": "code",
   "execution_count": 51,
   "id": "4ae6729e-65b3-4b8b-b1e5-3cc16f45fba7",
   "metadata": {},
   "outputs": [
    {
     "data": {
      "text/plain": [
       "array([12, 14, 16, 18, 20,  5,  8,  3,  9,  6])"
      ]
     },
     "execution_count": 51,
     "metadata": {},
     "output_type": "execute_result"
    }
   ],
   "source": [
    "arry_join = np.concatenate([arr00,arr01])\n",
    "arry_join\n"
   ]
  },
  {
   "cell_type": "code",
   "execution_count": 52,
   "id": "39bcb623-da5c-4b32-a6de-aa7898c6e21c",
   "metadata": {},
   "outputs": [
    {
     "name": "stdout",
     "output_type": "stream",
     "text": [
      "[[1 2 3 4]\n",
      " [5 6 7 8]]\n",
      "[[10 11 12 13]\n",
      " [14 15 16 17]]\n"
     ]
    }
   ],
   "source": [
    "arry0 = np.array([[1,2,3,4],[5,6,7,8]])\n",
    "arry1 = np.array([[10,11,12,13],[14,15,16,17]])\n",
    "print(arry0)\n",
    "print(arry1)\n"
   ]
  },
  {
   "cell_type": "code",
   "execution_count": 53,
   "id": "deb4063d-128f-4f9b-9e50-27e563b347be",
   "metadata": {},
   "outputs": [
    {
     "data": {
      "text/plain": [
       "array([[ 1,  2,  3,  4],\n",
       "       [ 5,  6,  7,  8],\n",
       "       [10, 11, 12, 13],\n",
       "       [14, 15, 16, 17]])"
      ]
     },
     "execution_count": 53,
     "metadata": {},
     "output_type": "execute_result"
    }
   ],
   "source": [
    "ary_join = np.concatenate([arry0,arry1])\n",
    "ary_join"
   ]
  },
  {
   "cell_type": "code",
   "execution_count": 54,
   "id": "dd06a724-723d-4ecb-8a32-3259a2df58da",
   "metadata": {},
   "outputs": [
    {
     "name": "stdout",
     "output_type": "stream",
     "text": [
      "[[[ 1  2  3]\n",
      "  [ 4  5  6]]\n",
      "\n",
      " [[ 7  8  9]\n",
      "  [10 11 12]]]\n",
      "[[[99 98 97]\n",
      "  [96 95 94]]\n",
      "\n",
      " [[93 92 91]\n",
      "  [90 89 88]]]\n"
     ]
    }
   ],
   "source": [
    "aroy0 = np.array([[[1,2,3],[4,5,6]],[[7,8,9],[10,11,12]]])\n",
    "print(aroy0)\n",
    "aroy1 = np.array([[[99,98,97],[96,95,94]],[[93,92,91],[90,89,88]]])\n",
    "print(aroy1)\n"
   ]
  },
  {
   "cell_type": "code",
   "execution_count": 55,
   "id": "eddca5ca-e778-4f4e-938e-e3dcab18acaa",
   "metadata": {},
   "outputs": [
    {
     "data": {
      "text/plain": [
       "array([[[ 1,  2,  3],\n",
       "        [ 4,  5,  6]],\n",
       "\n",
       "       [[ 7,  8,  9],\n",
       "        [10, 11, 12]],\n",
       "\n",
       "       [[99, 98, 97],\n",
       "        [96, 95, 94]],\n",
       "\n",
       "       [[93, 92, 91],\n",
       "        [90, 89, 88]]])"
      ]
     },
     "execution_count": 55,
     "metadata": {},
     "output_type": "execute_result"
    }
   ],
   "source": [
    "array_join = np.concatenate([aroy0,aroy1])\n",
    "array_join\n"
   ]
  },
  {
   "cell_type": "markdown",
   "id": "3dbda4fa-c675-404b-b2e8-3d5a3a9ad296",
   "metadata": {},
   "source": [
    "# Stacking in Numpy"
   ]
  },
  {
   "cell_type": "code",
   "execution_count": 57,
   "id": "2b3a34b1-e8d3-4b27-85ab-0ad9992b8597",
   "metadata": {},
   "outputs": [
    {
     "data": {
      "text/plain": [
       "array([[12,  5],\n",
       "       [14,  8],\n",
       "       [16,  3],\n",
       "       [18,  9],\n",
       "       [20,  6]])"
      ]
     },
     "execution_count": 57,
     "metadata": {},
     "output_type": "execute_result"
    }
   ],
   "source": [
    "arr_stack = np.stack([arr00,arr01],axis=1)\n",
    "arr_stack"
   ]
  },
  {
   "cell_type": "code",
   "execution_count": 58,
   "id": "5ec32e47-6c95-4001-8605-d1104c6eb55c",
   "metadata": {},
   "outputs": [
    {
     "data": {
      "text/plain": [
       "array([[[ 1,  2,  3,  4],\n",
       "        [10, 11, 12, 13]],\n",
       "\n",
       "       [[ 5,  6,  7,  8],\n",
       "        [14, 15, 16, 17]]])"
      ]
     },
     "execution_count": 58,
     "metadata": {},
     "output_type": "execute_result"
    }
   ],
   "source": [
    "ar_stack = np.stack([arry0,arry1],axis=1)\n",
    "ar_stack\n"
   ]
  },
  {
   "cell_type": "code",
   "execution_count": 118,
   "id": "dacb042b-f5cb-41df-8534-1632b28147c9",
   "metadata": {},
   "outputs": [
    {
     "name": "stdout",
     "output_type": "stream",
     "text": [
      "[[1 2 3 4]\n",
      " [5 6 7 8]]\n",
      "[[10 11 12 13]\n",
      " [14 15 16 17]]\n"
     ]
    },
    {
     "data": {
      "text/plain": [
       "array([[ 1,  2,  3,  4, 10, 11, 12, 13],\n",
       "       [ 5,  6,  7,  8, 14, 15, 16, 17]])"
      ]
     },
     "execution_count": 118,
     "metadata": {},
     "output_type": "execute_result"
    }
   ],
   "source": [
    "print(arry0)\n",
    "print(arry1)\n",
    "ar_stack = np.hstack([arry0,arry1])\n",
    "ar_stack"
   ]
  },
  {
   "cell_type": "code",
   "execution_count": 122,
   "id": "d85905d9-a5ac-4106-b5f1-5ca1f84375ad",
   "metadata": {},
   "outputs": [
    {
     "data": {
      "text/plain": [
       "array([[ 1,  2,  3,  4],\n",
       "       [ 5,  6,  7,  8],\n",
       "       [10, 11, 12, 13],\n",
       "       [14, 15, 16, 17]])"
      ]
     },
     "execution_count": 122,
     "metadata": {},
     "output_type": "execute_result"
    }
   ],
   "source": [
    "ar_stack = np.vstack([arry0,arry1])\n",
    "ar_stack"
   ]
  },
  {
   "cell_type": "code",
   "execution_count": 124,
   "id": "7e008201-8da7-485a-be47-ee66a7fae06e",
   "metadata": {},
   "outputs": [
    {
     "data": {
      "text/plain": [
       "array([[[ 1, 10],\n",
       "        [ 2, 11],\n",
       "        [ 3, 12],\n",
       "        [ 4, 13]],\n",
       "\n",
       "       [[ 5, 14],\n",
       "        [ 6, 15],\n",
       "        [ 7, 16],\n",
       "        [ 8, 17]]])"
      ]
     },
     "execution_count": 124,
     "metadata": {},
     "output_type": "execute_result"
    }
   ],
   "source": [
    "ar_stack = np.dstack([arry0,arry1])\n",
    "ar_stack"
   ]
  },
  {
   "cell_type": "markdown",
   "id": "da5ef977-1eeb-4959-b069-55f0bd0fb296",
   "metadata": {},
   "source": [
    "### Numpy array splitting"
   ]
  },
  {
   "cell_type": "code",
   "execution_count": 127,
   "id": "c26d8167-a7f2-4567-a2c1-008920ebb778",
   "metadata": {},
   "outputs": [
    {
     "data": {
      "text/plain": [
       "array([ 0,  1,  2,  3,  4,  5,  6,  7,  8,  9, 10, 11, 12, 13, 14, 15, 16,\n",
       "       17, 18, 19])"
      ]
     },
     "execution_count": 127,
     "metadata": {},
     "output_type": "execute_result"
    }
   ],
   "source": [
    "arr = np.arange(20)\n",
    "arr\n",
    "\n"
   ]
  },
  {
   "cell_type": "code",
   "execution_count": 131,
   "id": "cb75d5b5-20b2-4700-aceb-4226ad8d26b5",
   "metadata": {},
   "outputs": [
    {
     "data": {
      "text/plain": [
       "[array([0, 1, 2]),\n",
       " array([3, 4, 5]),\n",
       " array([6, 7, 8]),\n",
       " array([ 9, 10, 11]),\n",
       " array([12, 13, 14]),\n",
       " array([15, 16, 17]),\n",
       " array([18, 19])]"
      ]
     },
     "execution_count": 131,
     "metadata": {},
     "output_type": "execute_result"
    }
   ],
   "source": [
    "arr_split = np.array_split(arr,7)\n",
    "arr_split\n"
   ]
  },
  {
   "cell_type": "code",
   "execution_count": 141,
   "id": "13ac50af-cef9-46ae-8d86-2ddda2a7bf40",
   "metadata": {},
   "outputs": [
    {
     "data": {
      "text/plain": [
       "[array([0, 1, 2, 3]),\n",
       " array([4, 5, 6, 7]),\n",
       " array([ 8,  9, 10, 11]),\n",
       " array([12, 13, 14, 15]),\n",
       " array([16, 17, 18, 19])]"
      ]
     },
     "execution_count": 141,
     "metadata": {},
     "output_type": "execute_result"
    }
   ],
   "source": [
    "arr_split = np.hsplit(arr,5)\n",
    "arr_split"
   ]
  },
  {
   "cell_type": "code",
   "execution_count": 145,
   "id": "b83c07da-20f5-439e-8776-85aeb4fa4f34",
   "metadata": {},
   "outputs": [
    {
     "data": {
      "text/plain": [
       "array([[ 0,  1,  2,  3,  4,  5,  6,  7,  8,  9],\n",
       "       [10, 11, 12, 13, 14, 15, 16, 17, 18, 19]])"
      ]
     },
     "execution_count": 145,
     "metadata": {},
     "output_type": "execute_result"
    }
   ],
   "source": [
    "arr_2 = arr.reshape(2,10)\n",
    "arr_2"
   ]
  },
  {
   "cell_type": "code",
   "execution_count": 147,
   "id": "c8a374fa-9671-4145-802f-ceda4fd31b67",
   "metadata": {},
   "outputs": [
    {
     "data": {
      "text/plain": [
       "[array([[0, 1, 2, 3, 4, 5, 6, 7, 8, 9]]),\n",
       " array([[10, 11, 12, 13, 14, 15, 16, 17, 18, 19]])]"
      ]
     },
     "execution_count": 147,
     "metadata": {},
     "output_type": "execute_result"
    }
   ],
   "source": [
    "arr2_splitt = np.vsplit(arr_2,2)\n",
    "arr2_splitt"
   ]
  },
  {
   "cell_type": "code",
   "execution_count": 151,
   "id": "aadf2b9e-d708-475f-ac0b-83128b5ecc41",
   "metadata": {},
   "outputs": [
    {
     "data": {
      "text/plain": [
       "array([[[ 0,  1],\n",
       "        [ 2,  3],\n",
       "        [ 4,  5],\n",
       "        [ 6,  7],\n",
       "        [ 8,  9]],\n",
       "\n",
       "       [[10, 11],\n",
       "        [12, 13],\n",
       "        [14, 15],\n",
       "        [16, 17],\n",
       "        [18, 19]]])"
      ]
     },
     "execution_count": 151,
     "metadata": {},
     "output_type": "execute_result"
    }
   ],
   "source": [
    "arr3 = arr.reshape(2,5,2)\n",
    "\n",
    "arr3"
   ]
  },
  {
   "cell_type": "code",
   "execution_count": 155,
   "id": "60aa161c-0c26-4d2b-96f5-130c748560f1",
   "metadata": {},
   "outputs": [
    {
     "data": {
      "text/plain": [
       "[array([[[ 0],\n",
       "         [ 2],\n",
       "         [ 4],\n",
       "         [ 6],\n",
       "         [ 8]],\n",
       " \n",
       "        [[10],\n",
       "         [12],\n",
       "         [14],\n",
       "         [16],\n",
       "         [18]]]),\n",
       " array([[[ 1],\n",
       "         [ 3],\n",
       "         [ 5],\n",
       "         [ 7],\n",
       "         [ 9]],\n",
       " \n",
       "        [[11],\n",
       "         [13],\n",
       "         [15],\n",
       "         [17],\n",
       "         [19]]])]"
      ]
     },
     "execution_count": 155,
     "metadata": {},
     "output_type": "execute_result"
    }
   ],
   "source": [
    "arr3_split = np.dsplit(arr3,2)\n",
    "arr3_split"
   ]
  },
  {
   "cell_type": "markdown",
   "id": "a48887c0-026e-4a3a-8889-b7cc03e9afe2",
   "metadata": {},
   "source": [
    "## Numpy array searching"
   ]
  },
  {
   "cell_type": "code",
   "execution_count": 158,
   "id": "cf6160ee-d59a-4019-b2b6-8f8246d5dbb2",
   "metadata": {},
   "outputs": [
    {
     "data": {
      "text/plain": [
       "array([ 0,  1,  2,  3,  4,  5,  6,  7,  8,  9, 10, 11, 12, 13, 14, 15, 16,\n",
       "       17, 18, 19])"
      ]
     },
     "execution_count": 158,
     "metadata": {},
     "output_type": "execute_result"
    }
   ],
   "source": [
    "arr\n"
   ]
  },
  {
   "cell_type": "code",
   "execution_count": 160,
   "id": "a3015d96-1cbe-4c88-849c-2e706f643fda",
   "metadata": {},
   "outputs": [
    {
     "data": {
      "text/plain": [
       "array(['Even', 'Odd', 'Even', 'Odd', 'Even', 'Odd', 'Even', 'Odd', 'Even',\n",
       "       'Odd', 'Even', 'Odd', 'Even', 'Odd', 'Even', 'Odd', 'Even', 'Odd',\n",
       "       'Even', 'Odd'], dtype='<U4')"
      ]
     },
     "execution_count": 160,
     "metadata": {},
     "output_type": "execute_result"
    }
   ],
   "source": [
    "np.where(arr%2==0,'Even','Odd')\n"
   ]
  },
  {
   "cell_type": "code",
   "execution_count": 166,
   "id": "898af1fd-4023-44c4-a2c3-4109e3668839",
   "metadata": {},
   "outputs": [
    {
     "data": {
      "text/plain": [
       "(array([3, 4, 5, 6, 7, 8, 9], dtype=int64),)"
      ]
     },
     "execution_count": 166,
     "metadata": {},
     "output_type": "execute_result"
    }
   ],
   "source": [
    "np.where((arr>2) & (arr<10))"
   ]
  },
  {
   "cell_type": "markdown",
   "id": "f2754c47-6e3e-4388-9ba8-7224bba3dc44",
   "metadata": {},
   "source": [
    "### Numpy Sorting"
   ]
  },
  {
   "cell_type": "code",
   "execution_count": 179,
   "id": "1e91a329-9e93-4c29-a188-f7b7be45617e",
   "metadata": {},
   "outputs": [
    {
     "name": "stdout",
     "output_type": "stream",
     "text": [
      "[ 0  1  2  3  4  5  6  7  8  9 10 11 12 13 14 15 16 17 18 19]\n"
     ]
    }
   ],
   "source": [
    "arr_sort = np.sort(arr)\n",
    "print(arr_sort)"
   ]
  },
  {
   "cell_type": "code",
   "execution_count": 181,
   "id": "518a3365-2001-4653-a4b9-b0b70cc8cb95",
   "metadata": {},
   "outputs": [
    {
     "data": {
      "text/plain": [
       "10"
      ]
     },
     "execution_count": 181,
     "metadata": {},
     "output_type": "execute_result"
    }
   ],
   "source": [
    "# Searchsorted\n",
    "\n",
    "np.searchsorted(arr,10)\n"
   ]
  },
  {
   "cell_type": "markdown",
   "id": "eb80076c-4489-44c8-9fb3-2f610a07a37b",
   "metadata": {},
   "source": [
    "### Numpy Filtering"
   ]
  },
  {
   "cell_type": "code",
   "execution_count": 183,
   "id": "6ec0b8c8-385b-4530-a0c0-1999c6d9ae52",
   "metadata": {},
   "outputs": [
    {
     "data": {
      "text/plain": [
       "array([ 0,  1,  2,  3,  4,  5,  6,  7,  8,  9, 10, 11, 12, 13, 14, 15, 16,\n",
       "       17, 18, 19])"
      ]
     },
     "execution_count": 183,
     "metadata": {},
     "output_type": "execute_result"
    }
   ],
   "source": [
    "# Numpy filterring array\n",
    "\n",
    "arr"
   ]
  },
  {
   "cell_type": "code",
   "execution_count": 189,
   "id": "389a3ddd-6ccb-4836-a021-aa525e624351",
   "metadata": {},
   "outputs": [],
   "source": [
    "Even_index = arr%2==0"
   ]
  },
  {
   "cell_type": "code",
   "execution_count": 191,
   "id": "0a7ef366-73ca-49cd-ad0d-0b4dc97c8b81",
   "metadata": {},
   "outputs": [
    {
     "data": {
      "text/plain": [
       "array([ 0,  2,  4,  6,  8, 10, 12, 14, 16, 18])"
      ]
     },
     "execution_count": 191,
     "metadata": {},
     "output_type": "execute_result"
    }
   ],
   "source": [
    "arr[Even_index]"
   ]
  },
  {
   "cell_type": "code",
   "execution_count": null,
   "id": "20596db1-0f9c-43af-98e5-6df5615f60b6",
   "metadata": {},
   "outputs": [],
   "source": []
  }
 ],
 "metadata": {
  "kernelspec": {
   "display_name": "Python [conda env:base] *",
   "language": "python",
   "name": "conda-base-py"
  },
  "language_info": {
   "codemirror_mode": {
    "name": "ipython",
    "version": 3
   },
   "file_extension": ".py",
   "mimetype": "text/x-python",
   "name": "python",
   "nbconvert_exporter": "python",
   "pygments_lexer": "ipython3",
   "version": "3.12.7"
  }
 },
 "nbformat": 4,
 "nbformat_minor": 5
}
