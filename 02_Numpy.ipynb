{
 "cells": [
  {
   "cell_type": "markdown",
   "id": "e8df8861-abd5-40f4-a178-ed5df6ca3c1e",
   "metadata": {},
   "source": [
    "# Numpy - Numerical Python"
   ]
  },
  {
   "cell_type": "code",
   "execution_count": 2,
   "id": "5f33d3bf-b9ad-482b-9431-a4d9d1aece5e",
   "metadata": {},
   "outputs": [],
   "source": [
    "# importing the required library\n",
    "import numpy as np"
   ]
  },
  {
   "cell_type": "code",
   "execution_count": null,
   "id": "c83528a0",
   "metadata": {},
   "outputs": [],
   "source": []
  },
  {
   "cell_type": "code",
   "execution_count": 3,
   "id": "c9cbb460-c335-4b40-a4c2-862eedba9ac9",
   "metadata": {},
   "outputs": [
    {
     "name": "stdout",
     "output_type": "stream",
     "text": [
      "2\n",
      "<class 'numpy.ndarray'>\n",
      "Dimension :  0\n"
     ]
    }
   ],
   "source": [
    "# Creating a 0D array\n",
    "\n",
    "arr0 = np.array(2)\n",
    "print(arr0)\n",
    "print(type(arr0))\n",
    "print(\"Dimension : \",arr0.ndim)"
   ]
  },
  {
   "cell_type": "code",
   "execution_count": 4,
   "id": "bc9a6a40-e7b5-48ba-b501-80d27d034efd",
   "metadata": {},
   "outputs": [
    {
     "name": "stdout",
     "output_type": "stream",
     "text": [
      "[2 3 4 5 6]\n"
     ]
    }
   ],
   "source": [
    "# Creating a 1D array\n",
    "\n",
    "arr = np.array([2,3,4,5,6])\n",
    "print(arr)\n"
   ]
  },
  {
   "cell_type": "code",
   "execution_count": 5,
   "id": "e7741b0f-aa4b-4294-9486-2652f45383cf",
   "metadata": {},
   "outputs": [
    {
     "name": "stdout",
     "output_type": "stream",
     "text": [
      "<class 'numpy.ndarray'>\n",
      "Dimension :  1\n"
     ]
    }
   ],
   "source": [
    "print(type(arr))\n",
    "print(\"Dimension : \",arr.ndim)"
   ]
  },
  {
   "cell_type": "code",
   "execution_count": 6,
   "id": "2eeadf61-895c-4f85-838d-cdd50e92d181",
   "metadata": {},
   "outputs": [
    {
     "name": "stdout",
     "output_type": "stream",
     "text": [
      "['a' 'b' 'c']\n",
      "<class 'numpy.ndarray'>\n",
      "Dimension :  1\n"
     ]
    }
   ],
   "source": [
    "arr_s = np.array(['a','b','c'])\n",
    "print(arr_s)\n",
    "print(type(arr_s))\n",
    "print(\"Dimension : \",arr_s.ndim)"
   ]
  },
  {
   "cell_type": "code",
   "execution_count": 7,
   "id": "b1d21778-753e-4029-be31-fb8a82e97cc4",
   "metadata": {},
   "outputs": [
    {
     "name": "stdout",
     "output_type": "stream",
     "text": [
      "[[ 2  3  4  5  6]\n",
      " [ 7  8  9 10 11]\n",
      " [12 13 14 15 16]]\n",
      "<class 'numpy.ndarray'>\n",
      "Dimension :  2\n"
     ]
    }
   ],
   "source": [
    "# Creating a 2D Array\n",
    "\n",
    "arr2 = np.array([[2,3,4,5,6],[7,8,9,10,11],[12,13,14,15,16]])\n",
    "print(arr2)\n",
    "print(type(arr2))\n",
    "print(\"Dimension : \",arr2.ndim)"
   ]
  },
  {
   "cell_type": "code",
   "execution_count": 8,
   "id": "71940b71-2d5d-4425-aeb5-380e84cf0b1e",
   "metadata": {},
   "outputs": [
    {
     "name": "stdout",
     "output_type": "stream",
     "text": [
      "[[[ 2  3  4  5  6]\n",
      "  [ 7  8  9 10 11]\n",
      "  [12 13 14 15 16]]\n",
      "\n",
      " [[22 23 24 25 26]\n",
      "  [27 28 29 30 11]\n",
      "  [12 13 14 15 16]]]\n",
      "<class 'numpy.ndarray'>\n",
      "Dimension :  3\n"
     ]
    }
   ],
   "source": [
    "# Creating a 3D Array\n",
    "\n",
    "arr3 = np.array([[[2,3,4,5,6],[7,8,9,10,11],[12,13,14,15,16]],[[22,23,24,25,26],[27,28,29,30,11],[12,13,14,15,16]]])\n",
    "print(arr3)\n",
    "print(type(arr3))\n",
    "print(\"Dimension : \",arr3.ndim)"
   ]
  },
  {
   "cell_type": "code",
   "execution_count": 9,
   "id": "3525655d-aece-4a11-934f-f064e8c93d78",
   "metadata": {},
   "outputs": [
    {
     "name": "stdout",
     "output_type": "stream",
     "text": [
      "[[[[[2 3 4 5]]]]]\n",
      "<class 'numpy.ndarray'>\n",
      "Dimension :  5\n"
     ]
    }
   ],
   "source": [
    "# Creating a 5D Array\n",
    "\n",
    "arr5 = np.array([2,3,4,5],ndmin=5)\n",
    "print(arr5)\n",
    "print(type(arr5))\n",
    "print(\"Dimension : \",arr5.ndim)\n",
    "      "
   ]
  },
  {
   "cell_type": "markdown",
   "id": "141fdb4c-9bde-4d10-b1b6-f6bc97b1e21c",
   "metadata": {},
   "source": [
    "### Index and Slicing of Arrays"
   ]
  },
  {
   "cell_type": "code",
   "execution_count": 11,
   "id": "b6311d18-0535-48b1-883e-2b1154f90b2a",
   "metadata": {},
   "outputs": [
    {
     "data": {
      "text/plain": [
       "array([2, 3, 4, 5, 6])"
      ]
     },
     "execution_count": 11,
     "metadata": {},
     "output_type": "execute_result"
    }
   ],
   "source": [
    "# indexing and slicing of a 1D array\n",
    "\n",
    "arr"
   ]
  },
  {
   "cell_type": "code",
   "execution_count": 12,
   "id": "36988b96-9227-435a-9e92-619d46797e78",
   "metadata": {},
   "outputs": [
    {
     "data": {
      "text/plain": [
       "4"
      ]
     },
     "execution_count": 12,
     "metadata": {},
     "output_type": "execute_result"
    }
   ],
   "source": [
    "arr[2]"
   ]
  },
  {
   "cell_type": "code",
   "execution_count": 13,
   "id": "12c6e012-230b-49be-b6f7-4d98b5c666e1",
   "metadata": {},
   "outputs": [
    {
     "data": {
      "text/plain": [
       "array([3, 4, 5])"
      ]
     },
     "execution_count": 13,
     "metadata": {},
     "output_type": "execute_result"
    }
   ],
   "source": [
    "arr[1:4]"
   ]
  },
  {
   "cell_type": "code",
   "execution_count": 14,
   "id": "41d5fe89-56be-46cb-8b0b-d6f1f62a19cd",
   "metadata": {},
   "outputs": [
    {
     "data": {
      "text/plain": [
       "array([3, 6])"
      ]
     },
     "execution_count": 14,
     "metadata": {},
     "output_type": "execute_result"
    }
   ],
   "source": [
    "# step Slicing\n",
    "\n",
    "arr[1:5:3]\n"
   ]
  },
  {
   "cell_type": "code",
   "execution_count": 15,
   "id": "bad78b11-cd5a-4451-9a3c-69318ff7c2dc",
   "metadata": {},
   "outputs": [
    {
     "data": {
      "text/plain": [
       "array([2, 6])"
      ]
     },
     "execution_count": 15,
     "metadata": {},
     "output_type": "execute_result"
    }
   ],
   "source": [
    "arr[::4]"
   ]
  },
  {
   "cell_type": "code",
   "execution_count": 16,
   "id": "a1fd1807-9b19-4d6f-ae89-44043fed2911",
   "metadata": {},
   "outputs": [
    {
     "data": {
      "text/plain": [
       "array([[ 2,  3,  4,  5,  6],\n",
       "       [ 7,  8,  9, 10, 11],\n",
       "       [12, 13, 14, 15, 16]])"
      ]
     },
     "execution_count": 16,
     "metadata": {},
     "output_type": "execute_result"
    }
   ],
   "source": [
    "# indexing and slicing of a 2D array\n",
    "\n",
    "arr2"
   ]
  },
  {
   "cell_type": "code",
   "execution_count": 17,
   "id": "4f86ab95-62bd-42ff-8577-61b84f1f6593",
   "metadata": {},
   "outputs": [
    {
     "data": {
      "text/plain": [
       "8"
      ]
     },
     "execution_count": 17,
     "metadata": {},
     "output_type": "execute_result"
    }
   ],
   "source": [
    "arr2[1,1]"
   ]
  },
  {
   "cell_type": "code",
   "execution_count": 18,
   "id": "93be5bca-2cbf-45de-8429-ef17d545ec84",
   "metadata": {},
   "outputs": [
    {
     "data": {
      "text/plain": [
       "15"
      ]
     },
     "execution_count": 18,
     "metadata": {},
     "output_type": "execute_result"
    }
   ],
   "source": [
    "arr2[2,3]"
   ]
  },
  {
   "cell_type": "code",
   "execution_count": 19,
   "id": "849e8240-a863-426a-a79d-0d44cb21cd24",
   "metadata": {},
   "outputs": [
    {
     "data": {
      "text/plain": [
       "6"
      ]
     },
     "execution_count": 19,
     "metadata": {},
     "output_type": "execute_result"
    }
   ],
   "source": [
    "arr2[0,4]"
   ]
  },
  {
   "cell_type": "code",
   "execution_count": 20,
   "id": "5e4ae4a1-bb66-4582-837f-cb255c01b3de",
   "metadata": {},
   "outputs": [
    {
     "data": {
      "text/plain": [
       "12"
      ]
     },
     "execution_count": 20,
     "metadata": {},
     "output_type": "execute_result"
    }
   ],
   "source": [
    "arr2[2,0]"
   ]
  },
  {
   "cell_type": "code",
   "execution_count": 21,
   "id": "6372a7fd-deec-43e0-951e-34d370731df9",
   "metadata": {},
   "outputs": [
    {
     "data": {
      "text/plain": [
       "array([[ 4,  5],\n",
       "       [ 9, 10]])"
      ]
     },
     "execution_count": 21,
     "metadata": {},
     "output_type": "execute_result"
    }
   ],
   "source": [
    "arr2[0:2,2:4]"
   ]
  },
  {
   "cell_type": "code",
   "execution_count": 22,
   "id": "52af7881-e523-4700-8ebb-a026644984c7",
   "metadata": {},
   "outputs": [
    {
     "data": {
      "text/plain": [
       "array([[10, 11],\n",
       "       [15, 16]])"
      ]
     },
     "execution_count": 22,
     "metadata": {},
     "output_type": "execute_result"
    }
   ],
   "source": [
    "arr2[1:3,3:5]"
   ]
  },
  {
   "cell_type": "code",
   "execution_count": 23,
   "id": "ef226ee8-07b6-4733-961c-2d0acd1a4862",
   "metadata": {},
   "outputs": [
    {
     "data": {
      "text/plain": [
       "array([[ 7,  8,  9, 10, 11]])"
      ]
     },
     "execution_count": 23,
     "metadata": {},
     "output_type": "execute_result"
    }
   ],
   "source": [
    "arr2[1:2,:]"
   ]
  },
  {
   "cell_type": "code",
   "execution_count": 24,
   "id": "aa0da1ea-2490-4e56-ba41-a6cb7c9bd965",
   "metadata": {},
   "outputs": [
    {
     "data": {
      "text/plain": [
       "array([[ 2,  3,  4,  5,  6],\n",
       "       [ 7,  8,  9, 10, 11],\n",
       "       [12, 13, 14, 15, 16]])"
      ]
     },
     "execution_count": 24,
     "metadata": {},
     "output_type": "execute_result"
    }
   ],
   "source": [
    "arr2"
   ]
  },
  {
   "cell_type": "code",
   "execution_count": 25,
   "id": "6f27dc7c-eb22-43ef-9020-15acfbf5b77c",
   "metadata": {},
   "outputs": [
    {
     "data": {
      "text/plain": [
       "array([[ 3,  5],\n",
       "       [ 8, 10],\n",
       "       [13, 15]])"
      ]
     },
     "execution_count": 25,
     "metadata": {},
     "output_type": "execute_result"
    }
   ],
   "source": [
    "arr2[:,1:4:2]"
   ]
  },
  {
   "cell_type": "code",
   "execution_count": 28,
   "id": "9996a28c-8bab-497d-ab1a-44b4360b398e",
   "metadata": {},
   "outputs": [
    {
     "data": {
      "text/plain": [
       "array([[2, 3, 4],\n",
       "       [7, 8, 9]])"
      ]
     },
     "execution_count": 28,
     "metadata": {},
     "output_type": "execute_result"
    }
   ],
   "source": [
    "arr2[0:2,0:3:]"
   ]
  },
  {
   "cell_type": "code",
   "execution_count": 30,
   "id": "dcda25f3-5afb-488b-98d2-f064b5a3ca98",
   "metadata": {},
   "outputs": [
    {
     "data": {
      "text/plain": [
       "array([[ 2,  5],\n",
       "       [12, 15]])"
      ]
     },
     "execution_count": 30,
     "metadata": {},
     "output_type": "execute_result"
    }
   ],
   "source": [
    "arr2[::2,:4:3]"
   ]
  },
  {
   "cell_type": "markdown",
   "id": "3bce063c-2ae5-4ba3-87be-d6f81905c989",
   "metadata": {},
   "source": [
    "#### Negative Indexing and Slicing "
   ]
  },
  {
   "cell_type": "code",
   "execution_count": 40,
   "id": "557cf790-fa86-460d-b015-3cdf6dad4444",
   "metadata": {},
   "outputs": [
    {
     "data": {
      "text/plain": [
       "array([2, 3, 4, 5, 6])"
      ]
     },
     "execution_count": 40,
     "metadata": {},
     "output_type": "execute_result"
    }
   ],
   "source": [
    "arr"
   ]
  },
  {
   "cell_type": "code",
   "execution_count": 44,
   "id": "c0561cab-f353-4c5e-81cb-756dcfd72116",
   "metadata": {},
   "outputs": [
    {
     "data": {
      "text/plain": [
       "6"
      ]
     },
     "execution_count": 44,
     "metadata": {},
     "output_type": "execute_result"
    }
   ],
   "source": [
    "arr[-1]"
   ]
  },
  {
   "cell_type": "code",
   "execution_count": 46,
   "id": "a6f7cf5e-0adb-4c2b-8f98-cdaffcfe37cd",
   "metadata": {},
   "outputs": [
    {
     "data": {
      "text/plain": [
       "array([4, 5])"
      ]
     },
     "execution_count": 46,
     "metadata": {},
     "output_type": "execute_result"
    }
   ],
   "source": [
    "arr[-3:-1]"
   ]
  },
  {
   "cell_type": "code",
   "execution_count": 48,
   "id": "c7f905e5-592a-41b2-aa42-48edab09166e",
   "metadata": {},
   "outputs": [
    {
     "data": {
      "text/plain": [
       "dtype('int32')"
      ]
     },
     "execution_count": 48,
     "metadata": {},
     "output_type": "execute_result"
    }
   ],
   "source": [
    "# checking for data types in an array\n",
    "\n",
    "arr.dtype"
   ]
  },
  {
   "cell_type": "code",
   "execution_count": 50,
   "id": "51c1d0d0-db67-4e3a-b0ee-9fb6d921a4b0",
   "metadata": {},
   "outputs": [
    {
     "data": {
      "text/plain": [
       "dtype('<U1')"
      ]
     },
     "execution_count": 50,
     "metadata": {},
     "output_type": "execute_result"
    }
   ],
   "source": [
    "arr_s = np.array(['a','b','c',])\n",
    "arr_s.dtype"
   ]
  },
  {
   "cell_type": "code",
   "execution_count": 60,
   "id": "429bdde1-4eb1-4dab-913b-7c411a035eda",
   "metadata": {},
   "outputs": [
    {
     "data": {
      "text/plain": [
       "array([2., 3., 4., 5., 6.], dtype=float32)"
      ]
     },
     "execution_count": 60,
     "metadata": {},
     "output_type": "execute_result"
    }
   ],
   "source": [
    "# Changing data types\n",
    "\n",
    "arr_float = arr.astype('f')\n",
    "arr_float"
   ]
  },
  {
   "cell_type": "code",
   "execution_count": 62,
   "id": "1d1f5950-5f02-4891-be03-619f680ce074",
   "metadata": {},
   "outputs": [],
   "source": [
    "# Numpy Copy vs view\n",
    "\n",
    "arr_c = arr.copy()\n",
    "arr_v = arr.view()"
   ]
  },
  {
   "cell_type": "code",
   "execution_count": 64,
   "id": "f0e64f98-f3e3-4e32-8ecc-ccc612220f27",
   "metadata": {},
   "outputs": [
    {
     "name": "stdout",
     "output_type": "stream",
     "text": [
      "[2 3 4 5 6]\n",
      "[2 3 4 5 6]\n",
      "[2 3 4 5 6]\n"
     ]
    }
   ],
   "source": [
    "print(arr)\n",
    "print(arr_c)\n",
    "print(arr_v)"
   ]
  },
  {
   "cell_type": "code",
   "execution_count": 66,
   "id": "0c1b783f-f1a0-4829-80d2-e622ac408409",
   "metadata": {},
   "outputs": [],
   "source": [
    "arr[2] = 10"
   ]
  },
  {
   "cell_type": "code",
   "execution_count": 68,
   "id": "edf2fa10-ece9-4672-9a71-4416134b69dc",
   "metadata": {},
   "outputs": [
    {
     "name": "stdout",
     "output_type": "stream",
     "text": [
      "[ 2  3 10  5  6]\n",
      "[2 3 4 5 6]\n",
      "[ 2  3 10  5  6]\n"
     ]
    }
   ],
   "source": [
    "print(arr)\n",
    "print(arr_c)\n",
    "print(arr_v)"
   ]
  },
  {
   "cell_type": "code",
   "execution_count": 70,
   "id": "e79a3ff1-f2cf-479a-9948-5ecd3f80ce2d",
   "metadata": {},
   "outputs": [
    {
     "data": {
      "text/plain": [
       "(5,)"
      ]
     },
     "execution_count": 70,
     "metadata": {},
     "output_type": "execute_result"
    }
   ],
   "source": [
    "# Returning the shape of an array\n",
    "\n",
    "arr.shape"
   ]
  },
  {
   "cell_type": "code",
   "execution_count": 72,
   "id": "0bde63bc-4cb1-440e-9d9d-626b8bdebc34",
   "metadata": {},
   "outputs": [
    {
     "data": {
      "text/plain": [
       "(3, 5)"
      ]
     },
     "execution_count": 72,
     "metadata": {},
     "output_type": "execute_result"
    }
   ],
   "source": [
    "arr2.shape"
   ]
  },
  {
   "cell_type": "code",
   "execution_count": 74,
   "id": "fbd50e8f-8be1-4b5e-9fd5-827ffe2a8f77",
   "metadata": {},
   "outputs": [
    {
     "data": {
      "text/plain": [
       "(2, 3, 5)"
      ]
     },
     "execution_count": 74,
     "metadata": {},
     "output_type": "execute_result"
    }
   ],
   "source": [
    "arr3.shape"
   ]
  },
  {
   "cell_type": "code",
   "execution_count": 76,
   "id": "b3a92cc1-c2e3-43de-8777-828582e389e6",
   "metadata": {},
   "outputs": [
    {
     "data": {
      "text/plain": [
       "array([[ 2,  3,  4,  5,  6],\n",
       "       [ 7,  8,  9, 10, 11],\n",
       "       [12, 13, 14, 15, 16]])"
      ]
     },
     "execution_count": 76,
     "metadata": {},
     "output_type": "execute_result"
    }
   ],
   "source": [
    "# Array Reshaping \n",
    "\n",
    "arr2"
   ]
  },
  {
   "cell_type": "code",
   "execution_count": 80,
   "id": "7bb42158-4c1c-4ca3-9bfc-2a1a3c7dcda0",
   "metadata": {},
   "outputs": [
    {
     "data": {
      "text/plain": [
       "array([[ 2,  3,  4],\n",
       "       [ 5,  6,  7],\n",
       "       [ 8,  9, 10],\n",
       "       [11, 12, 13],\n",
       "       [14, 15, 16]])"
      ]
     },
     "execution_count": 80,
     "metadata": {},
     "output_type": "execute_result"
    }
   ],
   "source": [
    "arr_22 = arr2.reshape(5,3)\n",
    "arr_22"
   ]
  },
  {
   "cell_type": "code",
   "execution_count": 82,
   "id": "bb03eb1e-39a4-430d-ba32-c01aa842da68",
   "metadata": {},
   "outputs": [
    {
     "data": {
      "text/plain": [
       "array([[ 2],\n",
       "       [ 3],\n",
       "       [ 4],\n",
       "       [ 5],\n",
       "       [ 6],\n",
       "       [ 7],\n",
       "       [ 8],\n",
       "       [ 9],\n",
       "       [10],\n",
       "       [11],\n",
       "       [12],\n",
       "       [13],\n",
       "       [14],\n",
       "       [15],\n",
       "       [16]])"
      ]
     },
     "execution_count": 82,
     "metadata": {},
     "output_type": "execute_result"
    }
   ],
   "source": [
    "arr_22 = arr2.reshape(15,1)\n",
    "arr_22"
   ]
  },
  {
   "cell_type": "code",
   "execution_count": 84,
   "id": "589fff25-9121-459f-bbc4-8a27112f5782",
   "metadata": {},
   "outputs": [
    {
     "data": {
      "text/plain": [
       "array([[[ 2,  3,  4,  5,  6],\n",
       "        [ 7,  8,  9, 10, 11],\n",
       "        [12, 13, 14, 15, 16]],\n",
       "\n",
       "       [[22, 23, 24, 25, 26],\n",
       "        [27, 28, 29, 30, 11],\n",
       "        [12, 13, 14, 15, 16]]])"
      ]
     },
     "execution_count": 84,
     "metadata": {},
     "output_type": "execute_result"
    }
   ],
   "source": [
    "arr3"
   ]
  },
  {
   "cell_type": "code",
   "execution_count": 86,
   "id": "5d327ce7-de7e-4515-be2b-f90b6c700cbf",
   "metadata": {},
   "outputs": [
    {
     "data": {
      "text/plain": [
       "array([[ 2,  3,  4],\n",
       "       [ 5,  6,  7],\n",
       "       [ 8,  9, 10],\n",
       "       [11, 12, 13],\n",
       "       [14, 15, 16],\n",
       "       [22, 23, 24],\n",
       "       [25, 26, 27],\n",
       "       [28, 29, 30],\n",
       "       [11, 12, 13],\n",
       "       [14, 15, 16]])"
      ]
     },
     "execution_count": 86,
     "metadata": {},
     "output_type": "execute_result"
    }
   ],
   "source": [
    "arr3.reshape(10,3)"
   ]
  },
  {
   "cell_type": "code",
   "execution_count": 88,
   "id": "c8d90517-d17f-45f5-92b2-9260bc7b8adc",
   "metadata": {},
   "outputs": [
    {
     "data": {
      "text/plain": [
       "array([ 2,  3,  4,  5,  6,  7,  8,  9, 10, 11, 12, 13, 14, 15, 16, 22, 23,\n",
       "       24, 25, 26, 27, 28, 29, 30, 11, 12, 13, 14, 15, 16])"
      ]
     },
     "execution_count": 88,
     "metadata": {},
     "output_type": "execute_result"
    }
   ],
   "source": [
    "# Flattening of array\n",
    "\n",
    "arr3.reshape(-1)"
   ]
  },
  {
   "cell_type": "code",
   "execution_count": 94,
   "id": "5fedaadc-1d51-413e-951b-bbc89043eee2",
   "metadata": {},
   "outputs": [
    {
     "name": "stdout",
     "output_type": "stream",
     "text": [
      "2 3 10 5 6 "
     ]
    }
   ],
   "source": [
    "# Numpy Array iteration \n",
    "\n",
    "for i in arr:\n",
    "    print(i,end=\" \")"
   ]
  },
  {
   "cell_type": "code",
   "execution_count": 98,
   "id": "09f77584-ffb5-4d56-9df0-fd79f90b6a3a",
   "metadata": {},
   "outputs": [
    {
     "name": "stdout",
     "output_type": "stream",
     "text": [
      "2 3 4 5 6 7 8 9 10 11 12 13 14 15 16 "
     ]
    }
   ],
   "source": [
    "for i in arr2:\n",
    "    for j in i:\n",
    "        print(j,end=\" \")"
   ]
  },
  {
   "cell_type": "code",
   "execution_count": 102,
   "id": "519108f4-645d-40ae-8cd4-734d661a3bc8",
   "metadata": {},
   "outputs": [
    {
     "name": "stdout",
     "output_type": "stream",
     "text": [
      "2 3 4 5 6 7 8 9 10 11 12 13 14 15 16 22 23 24 25 26 27 28 29 30 11 12 13 14 15 16 "
     ]
    }
   ],
   "source": [
    "for i in arr3:\n",
    "    for j in i:\n",
    "        for k in j:\n",
    "            print(k,end=\" \")"
   ]
  },
  {
   "cell_type": "code",
   "execution_count": 104,
   "id": "b2ad8833-489e-447e-ae6f-38356432aed1",
   "metadata": {},
   "outputs": [
    {
     "name": "stdout",
     "output_type": "stream",
     "text": [
      "2 3 4 5 6 7 8 9 10 11 12 13 14 15 16 22 23 24 25 26 27 28 29 30 11 12 13 14 15 16 "
     ]
    }
   ],
   "source": [
    "# nditer method\n",
    "\n",
    "for i in np.nditer(arr3):\n",
    "    print(i,end=\" \")"
   ]
  },
  {
   "cell_type": "code",
   "execution_count": 106,
   "id": "5258fa1f-c7de-46fe-b5dc-43d6a44f9f3c",
   "metadata": {},
   "outputs": [
    {
     "data": {
      "text/plain": [
       "array(['a', 'b', 'c'], dtype='<U1')"
      ]
     },
     "execution_count": 106,
     "metadata": {},
     "output_type": "execute_result"
    }
   ],
   "source": [
    "arr_s"
   ]
  },
  {
   "cell_type": "code",
   "execution_count": 116,
   "id": "50326715-bd9d-47c5-b411-2add81836aeb",
   "metadata": {},
   "outputs": [
    {
     "name": "stdout",
     "output_type": "stream",
     "text": [
      "0 : a\n",
      "1 : b\n",
      "2 : c\n"
     ]
    }
   ],
   "source": [
    "for n,i in np.ndenumerate(arr_s):\n",
    "    print(f\"{n[0]} : {i}\")"
   ]
  },
  {
   "cell_type": "code",
   "execution_count": null,
   "id": "dcad974b-a7b1-4c04-b062-390bdc737231",
   "metadata": {},
   "outputs": [],
   "source": []
  }
 ],
 "metadata": {
  "kernelspec": {
   "display_name": "Python [conda env:base] *",
   "language": "python",
   "name": "conda-base-py"
  },
  "language_info": {
   "codemirror_mode": {
    "name": "ipython",
    "version": 3
   },
   "file_extension": ".py",
   "mimetype": "text/x-python",
   "name": "python",
   "nbconvert_exporter": "python",
   "pygments_lexer": "ipython3",
   "version": "3.12.7"
  }
 },
 "nbformat": 4,
 "nbformat_minor": 5
}
